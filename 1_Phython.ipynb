{
 "cells": [
  {
   "cell_type": "code",
   "execution_count": 7,
   "id": "3055cb07",
   "metadata": {},
   "outputs": [
    {
     "name": "stdout",
     "output_type": "stream",
     "text": [
      "Requirement already satisfied: pandas==0.20.0 in c:\\users\\tnaazsha\\anaconda3\\envs\\datascience_36\\lib\\site-packages (0.20.0)\n",
      "Requirement already satisfied: pytz>=2011k in c:\\users\\tnaazsha\\anaconda3\\envs\\datascience_36\\lib\\site-packages (from pandas==0.20.0) (2021.3)\n",
      "Requirement already satisfied: python-dateutil>=2 in c:\\users\\tnaazsha\\anaconda3\\envs\\datascience_36\\lib\\site-packages (from pandas==0.20.0) (2.8.2)\n",
      "Requirement already satisfied: numpy>=1.7.0 in c:\\users\\tnaazsha\\anaconda3\\envs\\datascience_36\\lib\\site-packages (from pandas==0.20.0) (1.19.5)\n",
      "Requirement already satisfied: six>=1.5 in c:\\users\\tnaazsha\\anaconda3\\envs\\datascience_36\\lib\\site-packages (from python-dateutil>=2->pandas==0.20.0) (1.16.0)\n",
      "Requirement already satisfied: matplotlib==2.0.2 in c:\\users\\tnaazsha\\anaconda3\\envs\\datascience_36\\lib\\site-packages (2.0.2)\n",
      "Requirement already satisfied: six>=1.10 in c:\\users\\tnaazsha\\anaconda3\\envs\\datascience_36\\lib\\site-packages (from matplotlib==2.0.2) (1.16.0)\n",
      "Requirement already satisfied: pyparsing!=2.0.4,!=2.1.2,!=2.1.6,>=1.5.6 in c:\\users\\tnaazsha\\anaconda3\\envs\\datascience_36\\lib\\site-packages (from matplotlib==2.0.2) (3.0.6)\n",
      "Requirement already satisfied: python-dateutil in c:\\users\\tnaazsha\\anaconda3\\envs\\datascience_36\\lib\\site-packages (from matplotlib==2.0.2) (2.8.2)\n",
      "Requirement already satisfied: cycler>=0.10 in c:\\users\\tnaazsha\\anaconda3\\envs\\datascience_36\\lib\\site-packages (from matplotlib==2.0.2) (0.11.0)\n",
      "Requirement already satisfied: pytz in c:\\users\\tnaazsha\\anaconda3\\envs\\datascience_36\\lib\\site-packages (from matplotlib==2.0.2) (2021.3)\n",
      "Requirement already satisfied: numpy>=1.7.1 in c:\\users\\tnaazsha\\anaconda3\\envs\\datascience_36\\lib\\site-packages (from matplotlib==2.0.2) (1.19.5)\n",
      "Requirement already satisfied: seaborn==0.7.1 in c:\\users\\tnaazsha\\anaconda3\\envs\\datascience_36\\lib\\site-packages (0.7.1)\n",
      "Requirement already satisfied: scipy in c:\\users\\tnaazsha\\anaconda3\\envs\\datascience_36\\lib\\site-packages (from seaborn==0.7.1) (1.5.4)\n",
      "Requirement already satisfied: numpy>=1.14.5 in c:\\users\\tnaazsha\\anaconda3\\envs\\datascience_36\\lib\\site-packages (from scipy->seaborn==0.7.1) (1.19.5)\n",
      "Collecting plotly==2.4.1\n",
      "  Downloading plotly-2.4.1.tar.gz (24.9 MB)\n",
      "Collecting decorator>=4.0.6\n",
      "  Downloading decorator-5.1.0-py3-none-any.whl (9.1 kB)\n",
      "Collecting nbformat>=4.2\n",
      "  Downloading nbformat-5.1.3-py3-none-any.whl (178 kB)\n",
      "Requirement already satisfied: pytz in c:\\users\\tnaazsha\\anaconda3\\envs\\datascience_36\\lib\\site-packages (from plotly==2.4.1) (2021.3)\n",
      "Collecting requests\n",
      "  Downloading requests-2.27.0-py2.py3-none-any.whl (63 kB)\n",
      "Requirement already satisfied: six in c:\\users\\tnaazsha\\anaconda3\\envs\\datascience_36\\lib\\site-packages (from plotly==2.4.1) (1.16.0)\n",
      "Collecting jupyter-core\n",
      "  Downloading jupyter_core-4.9.1-py3-none-any.whl (86 kB)\n",
      "Collecting jsonschema!=2.5.0,>=2.4\n",
      "  Downloading jsonschema-3.2.0-py2.py3-none-any.whl (56 kB)\n",
      "Collecting traitlets>=4.1\n",
      "  Downloading traitlets-4.3.3-py2.py3-none-any.whl (75 kB)\n",
      "Collecting ipython-genutils\n",
      "  Downloading ipython_genutils-0.2.0-py2.py3-none-any.whl (26 kB)\n",
      "Requirement already satisfied: setuptools in c:\\users\\tnaazsha\\anaconda3\\envs\\datascience_36\\lib\\site-packages (from jsonschema!=2.5.0,>=2.4->nbformat>=4.2->plotly==2.4.1) (58.0.4)\n",
      "Collecting importlib-metadata\n",
      "  Downloading importlib_metadata-4.8.3-py3-none-any.whl (17 kB)\n",
      "Collecting attrs>=17.4.0\n",
      "  Downloading attrs-21.4.0-py2.py3-none-any.whl (60 kB)\n",
      "Collecting pyrsistent>=0.14.0\n",
      "  Downloading pyrsistent-0.18.0-cp36-cp36m-win_amd64.whl (62 kB)\n",
      "Collecting typing-extensions>=3.6.4\n",
      "  Downloading typing_extensions-4.0.1-py3-none-any.whl (22 kB)\n",
      "Collecting zipp>=0.5\n",
      "  Downloading zipp-3.6.0-py3-none-any.whl (5.3 kB)\n",
      "Collecting pywin32>=1.0\n",
      "  Downloading pywin32-303-cp36-cp36m-win_amd64.whl (9.3 MB)\n",
      "Collecting urllib3<1.27,>=1.21.1\n",
      "  Downloading urllib3-1.26.7-py2.py3-none-any.whl (138 kB)\n",
      "Collecting charset-normalizer~=2.0.0\n",
      "  Downloading charset_normalizer-2.0.9-py3-none-any.whl (39 kB)\n",
      "Requirement already satisfied: certifi>=2017.4.17 in c:\\users\\tnaazsha\\anaconda3\\envs\\datascience_36\\lib\\site-packages (from requests->plotly==2.4.1) (2020.6.20)\n",
      "Collecting idna<4,>=2.5\n",
      "  Downloading idna-3.3-py3-none-any.whl (61 kB)\n",
      "Building wheels for collected packages: plotly\n",
      "  Building wheel for plotly (setup.py): started\n",
      "  Building wheel for plotly (setup.py): finished with status 'done'\n",
      "  Created wheel for plotly: filename=plotly-2.4.1-py3-none-any.whl size=24915019 sha256=ccb715e2b44519817de4c26b077a6a6c865ea0fafd93e82924511921db15fc78\n",
      "  Stored in directory: c:\\users\\tnaazsha\\appdata\\local\\pip\\cache\\wheels\\a7\\b8\\26\\efcdb8147c53323c1c482816bb32586e599eb3aeee937c78fa\n",
      "Successfully built plotly\n",
      "Installing collected packages: zipp, typing-extensions, ipython-genutils, decorator, traitlets, pywin32, pyrsistent, importlib-metadata, attrs, urllib3, jupyter-core, jsonschema, idna, charset-normalizer, requests, nbformat, plotly\n",
      "  Attempting uninstall: plotly\n",
      "    Found existing installation: plotly 5.5.0\n",
      "    Uninstalling plotly-5.5.0:\n",
      "      Successfully uninstalled plotly-5.5.0\n",
      "Successfully installed attrs-21.4.0 charset-normalizer-2.0.9 decorator-5.1.0 idna-3.3 importlib-metadata-4.8.3 ipython-genutils-0.2.0 jsonschema-3.2.0 jupyter-core-4.9.1 nbformat-5.1.3 plotly-2.4.1 pyrsistent-0.18.0 pywin32-303 requests-2.27.0 traitlets-4.3.3 typing-extensions-4.0.1 urllib3-1.26.7 zipp-3.6.0\n",
      "Requirement already satisfied: cufflinks==0.12.1 in c:\\users\\tnaazsha\\anaconda3\\envs\\datascience_36\\lib\\site-packages (0.12.1)\n",
      "Requirement already satisfied: plotly>=2.0.0 in c:\\users\\tnaazsha\\anaconda3\\envs\\datascience_36\\lib\\site-packages (from cufflinks==0.12.1) (2.4.1)\n",
      "Requirement already satisfied: colorlover>=0.2 in c:\\users\\tnaazsha\\anaconda3\\envs\\datascience_36\\lib\\site-packages (from cufflinks==0.12.1) (0.3.0)\n",
      "Requirement already satisfied: pandas in c:\\users\\tnaazsha\\anaconda3\\envs\\datascience_36\\lib\\site-packages (from cufflinks==0.12.1) (0.20.0)\n",
      "Requirement already satisfied: nbformat>=4.2 in c:\\users\\tnaazsha\\anaconda3\\envs\\datascience_36\\lib\\site-packages (from plotly>=2.0.0->cufflinks==0.12.1) (5.1.3)\n",
      "Requirement already satisfied: requests in c:\\users\\tnaazsha\\anaconda3\\envs\\datascience_36\\lib\\site-packages (from plotly>=2.0.0->cufflinks==0.12.1) (2.27.0)\n",
      "Requirement already satisfied: pytz in c:\\users\\tnaazsha\\anaconda3\\envs\\datascience_36\\lib\\site-packages (from plotly>=2.0.0->cufflinks==0.12.1) (2021.3)\n",
      "Requirement already satisfied: six in c:\\users\\tnaazsha\\anaconda3\\envs\\datascience_36\\lib\\site-packages (from plotly>=2.0.0->cufflinks==0.12.1) (1.16.0)\n",
      "Requirement already satisfied: decorator>=4.0.6 in c:\\users\\tnaazsha\\anaconda3\\envs\\datascience_36\\lib\\site-packages (from plotly>=2.0.0->cufflinks==0.12.1) (5.1.0)\n",
      "Requirement already satisfied: traitlets>=4.1 in c:\\users\\tnaazsha\\anaconda3\\envs\\datascience_36\\lib\\site-packages (from nbformat>=4.2->plotly>=2.0.0->cufflinks==0.12.1) (4.3.3)\n",
      "Requirement already satisfied: ipython-genutils in c:\\users\\tnaazsha\\anaconda3\\envs\\datascience_36\\lib\\site-packages (from nbformat>=4.2->plotly>=2.0.0->cufflinks==0.12.1) (0.2.0)\n",
      "Requirement already satisfied: jsonschema!=2.5.0,>=2.4 in c:\\users\\tnaazsha\\anaconda3\\envs\\datascience_36\\lib\\site-packages (from nbformat>=4.2->plotly>=2.0.0->cufflinks==0.12.1) (3.2.0)\n",
      "Requirement already satisfied: jupyter-core in c:\\users\\tnaazsha\\anaconda3\\envs\\datascience_36\\lib\\site-packages (from nbformat>=4.2->plotly>=2.0.0->cufflinks==0.12.1) (4.9.1)\n",
      "Requirement already satisfied: pyrsistent>=0.14.0 in c:\\users\\tnaazsha\\anaconda3\\envs\\datascience_36\\lib\\site-packages (from jsonschema!=2.5.0,>=2.4->nbformat>=4.2->plotly>=2.0.0->cufflinks==0.12.1) (0.18.0)\n",
      "Requirement already satisfied: attrs>=17.4.0 in c:\\users\\tnaazsha\\anaconda3\\envs\\datascience_36\\lib\\site-packages (from jsonschema!=2.5.0,>=2.4->nbformat>=4.2->plotly>=2.0.0->cufflinks==0.12.1) (21.4.0)\n",
      "Requirement already satisfied: importlib-metadata in c:\\users\\tnaazsha\\anaconda3\\envs\\datascience_36\\lib\\site-packages (from jsonschema!=2.5.0,>=2.4->nbformat>=4.2->plotly>=2.0.0->cufflinks==0.12.1) (4.8.3)\n",
      "Requirement already satisfied: setuptools in c:\\users\\tnaazsha\\anaconda3\\envs\\datascience_36\\lib\\site-packages (from jsonschema!=2.5.0,>=2.4->nbformat>=4.2->plotly>=2.0.0->cufflinks==0.12.1) (58.0.4)\n",
      "Requirement already satisfied: zipp>=0.5 in c:\\users\\tnaazsha\\anaconda3\\envs\\datascience_36\\lib\\site-packages (from importlib-metadata->jsonschema!=2.5.0,>=2.4->nbformat>=4.2->plotly>=2.0.0->cufflinks==0.12.1) (3.6.0)\n",
      "Requirement already satisfied: typing-extensions>=3.6.4 in c:\\users\\tnaazsha\\anaconda3\\envs\\datascience_36\\lib\\site-packages (from importlib-metadata->jsonschema!=2.5.0,>=2.4->nbformat>=4.2->plotly>=2.0.0->cufflinks==0.12.1) (4.0.1)\n",
      "Requirement already satisfied: pywin32>=1.0 in c:\\users\\tnaazsha\\anaconda3\\envs\\datascience_36\\lib\\site-packages (from jupyter-core->nbformat>=4.2->plotly>=2.0.0->cufflinks==0.12.1) (303)\n",
      "Requirement already satisfied: numpy>=1.7.0 in c:\\users\\tnaazsha\\anaconda3\\envs\\datascience_36\\lib\\site-packages (from pandas->cufflinks==0.12.1) (1.19.5)\n",
      "Requirement already satisfied: python-dateutil>=2 in c:\\users\\tnaazsha\\anaconda3\\envs\\datascience_36\\lib\\site-packages (from pandas->cufflinks==0.12.1) (2.8.2)\n",
      "Requirement already satisfied: urllib3<1.27,>=1.21.1 in c:\\users\\tnaazsha\\anaconda3\\envs\\datascience_36\\lib\\site-packages (from requests->plotly>=2.0.0->cufflinks==0.12.1) (1.26.7)\n",
      "Requirement already satisfied: idna<4,>=2.5 in c:\\users\\tnaazsha\\anaconda3\\envs\\datascience_36\\lib\\site-packages (from requests->plotly>=2.0.0->cufflinks==0.12.1) (3.3)\n",
      "Requirement already satisfied: certifi>=2017.4.17 in c:\\users\\tnaazsha\\anaconda3\\envs\\datascience_36\\lib\\site-packages (from requests->plotly>=2.0.0->cufflinks==0.12.1) (2020.6.20)\n",
      "Requirement already satisfied: charset-normalizer~=2.0.0 in c:\\users\\tnaazsha\\anaconda3\\envs\\datascience_36\\lib\\site-packages (from requests->plotly>=2.0.0->cufflinks==0.12.1) (2.0.9)\n"
     ]
    },
    {
     "name": "stdout",
     "output_type": "stream",
     "text": [
      "Requirement already satisfied: scikit-learn==0.20.0 in c:\\users\\tnaazsha\\anaconda3\\envs\\datascience_36\\lib\\site-packages (0.20.0)\n",
      "Requirement already satisfied: numpy>=1.8.2 in c:\\users\\tnaazsha\\anaconda3\\envs\\datascience_36\\lib\\site-packages (from scikit-learn==0.20.0) (1.19.5)\n",
      "Requirement already satisfied: scipy>=0.13.3 in c:\\users\\tnaazsha\\anaconda3\\envs\\datascience_36\\lib\\site-packages (from scikit-learn==0.20.0) (1.5.4)\n",
      "Requirement already satisfied: nltk==3.2.3 in c:\\users\\tnaazsha\\anaconda3\\envs\\datascience_36\\lib\\site-packages (3.2.3)\n",
      "Requirement already satisfied: six in c:\\users\\tnaazsha\\anaconda3\\envs\\datascience_36\\lib\\site-packages (from nltk==3.2.3) (1.16.0)\n"
     ]
    }
   ],
   "source": [
    "!pip install pandas==0.20.0\n",
    "!pip install matplotlib==2.0.2\n",
    "!pip install seaborn==0.7.1\n",
    "!pip install plotly==2.4.1\n",
    "!pip install cufflinks==0.12.1\n",
    "!pip install scikit-learn==0.20.0\n",
    "!pip install nltk==3.2.3"
   ]
  },
  {
   "cell_type": "code",
   "execution_count": 19,
   "id": "f58b9a8b",
   "metadata": {},
   "outputs": [
    {
     "name": "stdout",
     "output_type": "stream",
     "text": [
      "Requirement already satisfied: statsmodels in c:\\users\\tnaazsha\\anaconda3\\envs\\datascience_36\\lib\\site-packages (0.12.2)\n",
      "Requirement already satisfied: scipy>=1.1 in c:\\users\\tnaazsha\\anaconda3\\envs\\datascience_36\\lib\\site-packages (from statsmodels) (1.5.4)\n",
      "Requirement already satisfied: numpy>=1.15 in c:\\users\\tnaazsha\\anaconda3\\envs\\datascience_36\\lib\\site-packages (from statsmodels) (1.19.5)\n",
      "Requirement already satisfied: patsy>=0.5 in c:\\users\\tnaazsha\\anaconda3\\envs\\datascience_36\\lib\\site-packages (from statsmodels) (0.5.2)\n",
      "Requirement already satisfied: pandas>=0.21 in c:\\users\\tnaazsha\\anaconda3\\envs\\datascience_36\\lib\\site-packages (from statsmodels) (1.1.5)\n",
      "Requirement already satisfied: pytz>=2017.2 in c:\\users\\tnaazsha\\anaconda3\\envs\\datascience_36\\lib\\site-packages (from pandas>=0.21->statsmodels) (2021.3)\n",
      "Requirement already satisfied: python-dateutil>=2.7.3 in c:\\users\\tnaazsha\\anaconda3\\envs\\datascience_36\\lib\\site-packages (from pandas>=0.21->statsmodels) (2.8.2)\n",
      "Requirement already satisfied: six in c:\\users\\tnaazsha\\anaconda3\\envs\\datascience_36\\lib\\site-packages (from patsy>=0.5->statsmodels) (1.16.0)\n",
      "Requirement already satisfied: pydot in c:\\users\\tnaazsha\\anaconda3\\envs\\datascience_36\\lib\\site-packages (1.4.2)\n",
      "Requirement already satisfied: pyparsing>=2.1.4 in c:\\users\\tnaazsha\\anaconda3\\envs\\datascience_36\\lib\\site-packages (from pydot) (3.0.6)\n"
     ]
    }
   ],
   "source": [
    "!pip install statsmodels\n",
    "!pip install pydot"
   ]
  },
  {
   "cell_type": "code",
   "execution_count": 18,
   "id": "5cf4df22",
   "metadata": {},
   "outputs": [
    {
     "name": "stdout",
     "output_type": "stream",
     "text": [
      "Requirement already satisfied: ipywidgets in c:\\users\\tnaazsha\\anaconda3\\envs\\datascience_36\\lib\\site-packages (7.6.5)\n",
      "Requirement already satisfied: traitlets>=4.3.1 in c:\\users\\tnaazsha\\anaconda3\\envs\\datascience_36\\lib\\site-packages (from ipywidgets) (4.3.3)\n",
      "Requirement already satisfied: ipykernel>=4.5.1 in c:\\users\\tnaazsha\\anaconda3\\envs\\datascience_36\\lib\\site-packages (from ipywidgets) (5.5.6)\n",
      "Requirement already satisfied: ipython>=4.0.0 in c:\\users\\tnaazsha\\anaconda3\\envs\\datascience_36\\lib\\site-packages (from ipywidgets) (7.16.2)\n",
      "Requirement already satisfied: jupyterlab-widgets>=1.0.0 in c:\\users\\tnaazsha\\anaconda3\\envs\\datascience_36\\lib\\site-packages (from ipywidgets) (1.0.2)\n",
      "Requirement already satisfied: nbformat>=4.2.0 in c:\\users\\tnaazsha\\anaconda3\\envs\\datascience_36\\lib\\site-packages (from ipywidgets) (5.1.3)\n",
      "Requirement already satisfied: widgetsnbextension~=3.5.0 in c:\\users\\tnaazsha\\anaconda3\\envs\\datascience_36\\lib\\site-packages (from ipywidgets) (3.5.2)\n",
      "Requirement already satisfied: ipython-genutils~=0.2.0 in c:\\users\\tnaazsha\\anaconda3\\envs\\datascience_36\\lib\\site-packages (from ipywidgets) (0.2.0)\n",
      "Requirement already satisfied: tornado>=4.2 in c:\\users\\tnaazsha\\anaconda3\\envs\\datascience_36\\lib\\site-packages (from ipykernel>=4.5.1->ipywidgets) (6.1)\n",
      "Requirement already satisfied: jupyter-client in c:\\users\\tnaazsha\\anaconda3\\envs\\datascience_36\\lib\\site-packages (from ipykernel>=4.5.1->ipywidgets) (7.1.0)\n",
      "Requirement already satisfied: prompt-toolkit!=3.0.0,!=3.0.1,<3.1.0,>=2.0.0 in c:\\users\\tnaazsha\\anaconda3\\envs\\datascience_36\\lib\\site-packages (from ipython>=4.0.0->ipywidgets) (3.0.24)\n",
      "Requirement already satisfied: colorama in c:\\users\\tnaazsha\\anaconda3\\envs\\datascience_36\\lib\\site-packages (from ipython>=4.0.0->ipywidgets) (0.4.4)\n",
      "Requirement already satisfied: decorator in c:\\users\\tnaazsha\\anaconda3\\envs\\datascience_36\\lib\\site-packages (from ipython>=4.0.0->ipywidgets) (5.1.0)\n",
      "Requirement already satisfied: jedi<=0.17.2,>=0.10 in c:\\users\\tnaazsha\\anaconda3\\envs\\datascience_36\\lib\\site-packages (from ipython>=4.0.0->ipywidgets) (0.17.2)\n",
      "Requirement already satisfied: backcall in c:\\users\\tnaazsha\\anaconda3\\envs\\datascience_36\\lib\\site-packages (from ipython>=4.0.0->ipywidgets) (0.2.0)\n",
      "Requirement already satisfied: setuptools>=18.5 in c:\\users\\tnaazsha\\anaconda3\\envs\\datascience_36\\lib\\site-packages (from ipython>=4.0.0->ipywidgets) (58.0.4)\n",
      "Requirement already satisfied: pygments in c:\\users\\tnaazsha\\anaconda3\\envs\\datascience_36\\lib\\site-packages (from ipython>=4.0.0->ipywidgets) (2.11.1)\n",
      "Requirement already satisfied: pickleshare in c:\\users\\tnaazsha\\anaconda3\\envs\\datascience_36\\lib\\site-packages (from ipython>=4.0.0->ipywidgets) (0.7.5)\n",
      "Requirement already satisfied: parso<0.8.0,>=0.7.0 in c:\\users\\tnaazsha\\anaconda3\\envs\\datascience_36\\lib\\site-packages (from jedi<=0.17.2,>=0.10->ipython>=4.0.0->ipywidgets) (0.7.1)\n",
      "Requirement already satisfied: jsonschema!=2.5.0,>=2.4 in c:\\users\\tnaazsha\\anaconda3\\envs\\datascience_36\\lib\\site-packages (from nbformat>=4.2.0->ipywidgets) (3.2.0)\n",
      "Requirement already satisfied: jupyter-core in c:\\users\\tnaazsha\\anaconda3\\envs\\datascience_36\\lib\\site-packages (from nbformat>=4.2.0->ipywidgets) (4.9.1)\n",
      "Requirement already satisfied: attrs>=17.4.0 in c:\\users\\tnaazsha\\anaconda3\\envs\\datascience_36\\lib\\site-packages (from jsonschema!=2.5.0,>=2.4->nbformat>=4.2.0->ipywidgets) (21.4.0)\n",
      "Requirement already satisfied: pyrsistent>=0.14.0 in c:\\users\\tnaazsha\\anaconda3\\envs\\datascience_36\\lib\\site-packages (from jsonschema!=2.5.0,>=2.4->nbformat>=4.2.0->ipywidgets) (0.18.0)\n",
      "Requirement already satisfied: six>=1.11.0 in c:\\users\\tnaazsha\\anaconda3\\envs\\datascience_36\\lib\\site-packages (from jsonschema!=2.5.0,>=2.4->nbformat>=4.2.0->ipywidgets) (1.16.0)\n",
      "Requirement already satisfied: importlib-metadata in c:\\users\\tnaazsha\\anaconda3\\envs\\datascience_36\\lib\\site-packages (from jsonschema!=2.5.0,>=2.4->nbformat>=4.2.0->ipywidgets) (4.8.3)\n",
      "Requirement already satisfied: wcwidth in c:\\users\\tnaazsha\\anaconda3\\envs\\datascience_36\\lib\\site-packages (from prompt-toolkit!=3.0.0,!=3.0.1,<3.1.0,>=2.0.0->ipython>=4.0.0->ipywidgets) (0.2.5)\n",
      "Requirement already satisfied: notebook>=4.4.1 in c:\\users\\tnaazsha\\anaconda3\\envs\\datascience_36\\lib\\site-packages (from widgetsnbextension~=3.5.0->ipywidgets) (6.4.6)\n",
      "Requirement already satisfied: Send2Trash>=1.8.0 in c:\\users\\tnaazsha\\anaconda3\\envs\\datascience_36\\lib\\site-packages (from notebook>=4.4.1->widgetsnbextension~=3.5.0->ipywidgets) (1.8.0)\n",
      "Requirement already satisfied: nbconvert in c:\\users\\tnaazsha\\anaconda3\\envs\\datascience_36\\lib\\site-packages (from notebook>=4.4.1->widgetsnbextension~=3.5.0->ipywidgets) (6.0.7)\n",
      "Requirement already satisfied: jinja2 in c:\\users\\tnaazsha\\anaconda3\\envs\\datascience_36\\lib\\site-packages (from notebook>=4.4.1->widgetsnbextension~=3.5.0->ipywidgets) (3.0.3)\n",
      "Requirement already satisfied: pyzmq>=17 in c:\\users\\tnaazsha\\anaconda3\\envs\\datascience_36\\lib\\site-packages (from notebook>=4.4.1->widgetsnbextension~=3.5.0->ipywidgets) (22.3.0)\n",
      "Requirement already satisfied: argon2-cffi in c:\\users\\tnaazsha\\anaconda3\\envs\\datascience_36\\lib\\site-packages (from notebook>=4.4.1->widgetsnbextension~=3.5.0->ipywidgets) (21.3.0)\n",
      "Requirement already satisfied: nest-asyncio>=1.5 in c:\\users\\tnaazsha\\anaconda3\\envs\\datascience_36\\lib\\site-packages (from notebook>=4.4.1->widgetsnbextension~=3.5.0->ipywidgets) (1.5.4)\n",
      "Requirement already satisfied: terminado>=0.8.3 in c:\\users\\tnaazsha\\anaconda3\\envs\\datascience_36\\lib\\site-packages (from notebook>=4.4.1->widgetsnbextension~=3.5.0->ipywidgets) (0.12.1)\n",
      "Requirement already satisfied: prometheus-client in c:\\users\\tnaazsha\\anaconda3\\envs\\datascience_36\\lib\\site-packages (from notebook>=4.4.1->widgetsnbextension~=3.5.0->ipywidgets) (0.12.0)\n",
      "Requirement already satisfied: python-dateutil>=2.1 in c:\\users\\tnaazsha\\anaconda3\\envs\\datascience_36\\lib\\site-packages (from jupyter-client->ipykernel>=4.5.1->ipywidgets) (2.8.2)\n",
      "Requirement already satisfied: entrypoints in c:\\users\\tnaazsha\\anaconda3\\envs\\datascience_36\\lib\\site-packages (from jupyter-client->ipykernel>=4.5.1->ipywidgets) (0.3)\n",
      "Requirement already satisfied: pywin32>=1.0 in c:\\users\\tnaazsha\\anaconda3\\envs\\datascience_36\\lib\\site-packages (from jupyter-core->nbformat>=4.2.0->ipywidgets) (303)\n",
      "Requirement already satisfied: pywinpty>=1.1.0 in c:\\users\\tnaazsha\\anaconda3\\envs\\datascience_36\\lib\\site-packages (from terminado>=0.8.3->notebook>=4.4.1->widgetsnbextension~=3.5.0->ipywidgets) (1.1.6)\n",
      "Requirement already satisfied: argon2-cffi-bindings in c:\\users\\tnaazsha\\anaconda3\\envs\\datascience_36\\lib\\site-packages (from argon2-cffi->notebook>=4.4.1->widgetsnbextension~=3.5.0->ipywidgets) (21.2.0)\n",
      "Requirement already satisfied: typing-extensions in c:\\users\\tnaazsha\\anaconda3\\envs\\datascience_36\\lib\\site-packages (from argon2-cffi->notebook>=4.4.1->widgetsnbextension~=3.5.0->ipywidgets) (4.0.1)\n",
      "Requirement already satisfied: dataclasses in c:\\users\\tnaazsha\\anaconda3\\envs\\datascience_36\\lib\\site-packages (from argon2-cffi->notebook>=4.4.1->widgetsnbextension~=3.5.0->ipywidgets) (0.8)\n",
      "Requirement already satisfied: cffi>=1.0.1 in c:\\users\\tnaazsha\\anaconda3\\envs\\datascience_36\\lib\\site-packages (from argon2-cffi-bindings->argon2-cffi->notebook>=4.4.1->widgetsnbextension~=3.5.0->ipywidgets) (1.15.0)\n",
      "Requirement already satisfied: pycparser in c:\\users\\tnaazsha\\anaconda3\\envs\\datascience_36\\lib\\site-packages (from cffi>=1.0.1->argon2-cffi-bindings->argon2-cffi->notebook>=4.4.1->widgetsnbextension~=3.5.0->ipywidgets) (2.21)\n",
      "Requirement already satisfied: zipp>=0.5 in c:\\users\\tnaazsha\\anaconda3\\envs\\datascience_36\\lib\\site-packages (from importlib-metadata->jsonschema!=2.5.0,>=2.4->nbformat>=4.2.0->ipywidgets) (3.6.0)\n",
      "Requirement already satisfied: MarkupSafe>=2.0 in c:\\users\\tnaazsha\\anaconda3\\envs\\datascience_36\\lib\\site-packages (from jinja2->notebook>=4.4.1->widgetsnbextension~=3.5.0->ipywidgets) (2.0.1)\n",
      "Requirement already satisfied: testpath in c:\\users\\tnaazsha\\anaconda3\\envs\\datascience_36\\lib\\site-packages (from nbconvert->notebook>=4.4.1->widgetsnbextension~=3.5.0->ipywidgets) (0.5.0)\n",
      "Requirement already satisfied: pandocfilters>=1.4.1 in c:\\users\\tnaazsha\\anaconda3\\envs\\datascience_36\\lib\\site-packages (from nbconvert->notebook>=4.4.1->widgetsnbextension~=3.5.0->ipywidgets) (1.5.0)\n",
      "Requirement already satisfied: mistune<2,>=0.8.1 in c:\\users\\tnaazsha\\anaconda3\\envs\\datascience_36\\lib\\site-packages (from nbconvert->notebook>=4.4.1->widgetsnbextension~=3.5.0->ipywidgets) (0.8.4)\n",
      "Requirement already satisfied: nbclient<0.6.0,>=0.5.0 in c:\\users\\tnaazsha\\anaconda3\\envs\\datascience_36\\lib\\site-packages (from nbconvert->notebook>=4.4.1->widgetsnbextension~=3.5.0->ipywidgets) (0.5.9)\n",
      "Requirement already satisfied: jupyterlab-pygments in c:\\users\\tnaazsha\\anaconda3\\envs\\datascience_36\\lib\\site-packages (from nbconvert->notebook>=4.4.1->widgetsnbextension~=3.5.0->ipywidgets) (0.1.2)\n",
      "Requirement already satisfied: bleach in c:\\users\\tnaazsha\\anaconda3\\envs\\datascience_36\\lib\\site-packages (from nbconvert->notebook>=4.4.1->widgetsnbextension~=3.5.0->ipywidgets) (4.1.0)\n",
      "Requirement already satisfied: defusedxml in c:\\users\\tnaazsha\\anaconda3\\envs\\datascience_36\\lib\\site-packages (from nbconvert->notebook>=4.4.1->widgetsnbextension~=3.5.0->ipywidgets) (0.7.1)\n",
      "Requirement already satisfied: async-generator in c:\\users\\tnaazsha\\anaconda3\\envs\\datascience_36\\lib\\site-packages (from nbclient<0.6.0,>=0.5.0->nbconvert->notebook>=4.4.1->widgetsnbextension~=3.5.0->ipywidgets) (1.10)\n",
      "Requirement already satisfied: packaging in c:\\users\\tnaazsha\\anaconda3\\envs\\datascience_36\\lib\\site-packages (from bleach->nbconvert->notebook>=4.4.1->widgetsnbextension~=3.5.0->ipywidgets) (21.3)\n",
      "Requirement already satisfied: webencodings in c:\\users\\tnaazsha\\anaconda3\\envs\\datascience_36\\lib\\site-packages (from bleach->nbconvert->notebook>=4.4.1->widgetsnbextension~=3.5.0->ipywidgets) (0.5.1)\n",
      "Requirement already satisfied: pyparsing!=3.0.5,>=2.0.2 in c:\\users\\tnaazsha\\anaconda3\\envs\\datascience_36\\lib\\site-packages (from packaging->bleach->nbconvert->notebook>=4.4.1->widgetsnbextension~=3.5.0->ipywidgets) (3.0.6)\n"
     ]
    }
   ],
   "source": [
    "!pip install ipywidgets"
   ]
  },
  {
   "cell_type": "code",
   "execution_count": 23,
   "id": "cbc2ccfa",
   "metadata": {},
   "outputs": [
    {
     "ename": "ModuleNotFoundError",
     "evalue": "No module named 'plotly'",
     "output_type": "error",
     "traceback": [
      "\u001b[1;31m---------------------------------------------------------------------------\u001b[0m",
      "\u001b[1;31mModuleNotFoundError\u001b[0m                       Traceback (most recent call last)",
      "\u001b[1;32m~\\AppData\\Local\\Temp/ipykernel_9932/2678269652.py\u001b[0m in \u001b[0;36m<module>\u001b[1;34m\u001b[0m\n\u001b[0;32m      4\u001b[0m \u001b[1;32mimport\u001b[0m \u001b[0mseaborn\u001b[0m\u001b[1;33m\u001b[0m\u001b[1;33m\u001b[0m\u001b[0m\n\u001b[0;32m      5\u001b[0m \u001b[1;32mimport\u001b[0m \u001b[0mstatsmodels\u001b[0m\u001b[1;33m\u001b[0m\u001b[1;33m\u001b[0m\u001b[0m\n\u001b[1;32m----> 6\u001b[1;33m \u001b[1;32mimport\u001b[0m \u001b[0mplotly\u001b[0m\u001b[1;33m\u001b[0m\u001b[1;33m\u001b[0m\u001b[0m\n\u001b[0m\u001b[0;32m      7\u001b[0m \u001b[1;32mimport\u001b[0m \u001b[0mcufflinks\u001b[0m\u001b[1;33m\u001b[0m\u001b[1;33m\u001b[0m\u001b[0m\n\u001b[0;32m      8\u001b[0m \u001b[1;32mimport\u001b[0m \u001b[0msklearn\u001b[0m\u001b[1;33m\u001b[0m\u001b[1;33m\u001b[0m\u001b[0m\n",
      "\u001b[1;31mModuleNotFoundError\u001b[0m: No module named 'plotly'"
     ]
    }
   ],
   "source": [
    "import numpy\n",
    "import pandas\n",
    "import matplotlib\n",
    "import seaborn\n",
    "import statsmodels\n",
    "import plotly\n",
    "import cufflinks\n",
    "import sklearn\n",
    "import pydot\n",
    "import nltk"
   ]
  },
  {
   "cell_type": "code",
   "execution_count": 21,
   "id": "ce5a17ff",
   "metadata": {},
   "outputs": [
    {
     "name": "stdout",
     "output_type": "stream",
     "text": [
      "Requirement already satisfied: plotly==2.4.1 in c:\\users\\tnaazsha\\anaconda3\\envs\\datascience_36\\lib\\site-packages (2.4.1)\n",
      "Requirement already satisfied: requests in c:\\users\\tnaazsha\\anaconda3\\envs\\datascience_36\\lib\\site-packages (from plotly==2.4.1) (2.27.0)\n",
      "Requirement already satisfied: pytz in c:\\users\\tnaazsha\\anaconda3\\envs\\datascience_36\\lib\\site-packages (from plotly==2.4.1) (2021.3)\n",
      "Requirement already satisfied: nbformat>=4.2 in c:\\users\\tnaazsha\\anaconda3\\envs\\datascience_36\\lib\\site-packages (from plotly==2.4.1) (5.1.3)\n",
      "Requirement already satisfied: six in c:\\users\\tnaazsha\\anaconda3\\envs\\datascience_36\\lib\\site-packages (from plotly==2.4.1) (1.16.0)\n",
      "Requirement already satisfied: decorator>=4.0.6 in c:\\users\\tnaazsha\\anaconda3\\envs\\datascience_36\\lib\\site-packages (from plotly==2.4.1) (5.1.0)\n",
      "Requirement already satisfied: jupyter-core in c:\\users\\tnaazsha\\anaconda3\\envs\\datascience_36\\lib\\site-packages (from nbformat>=4.2->plotly==2.4.1) (4.9.1)\n",
      "Requirement already satisfied: ipython-genutils in c:\\users\\tnaazsha\\anaconda3\\envs\\datascience_36\\lib\\site-packages (from nbformat>=4.2->plotly==2.4.1) (0.2.0)\n",
      "Requirement already satisfied: jsonschema!=2.5.0,>=2.4 in c:\\users\\tnaazsha\\anaconda3\\envs\\datascience_36\\lib\\site-packages (from nbformat>=4.2->plotly==2.4.1) (3.2.0)\n",
      "Requirement already satisfied: traitlets>=4.1 in c:\\users\\tnaazsha\\anaconda3\\envs\\datascience_36\\lib\\site-packages (from nbformat>=4.2->plotly==2.4.1) (4.3.3)\n",
      "Requirement already satisfied: importlib-metadata in c:\\users\\tnaazsha\\anaconda3\\envs\\datascience_36\\lib\\site-packages (from jsonschema!=2.5.0,>=2.4->nbformat>=4.2->plotly==2.4.1) (4.8.3)\n",
      "Requirement already satisfied: setuptools in c:\\users\\tnaazsha\\anaconda3\\envs\\datascience_36\\lib\\site-packages (from jsonschema!=2.5.0,>=2.4->nbformat>=4.2->plotly==2.4.1) (58.0.4)\n",
      "Requirement already satisfied: pyrsistent>=0.14.0 in c:\\users\\tnaazsha\\anaconda3\\envs\\datascience_36\\lib\\site-packages (from jsonschema!=2.5.0,>=2.4->nbformat>=4.2->plotly==2.4.1) (0.18.0)\n",
      "Requirement already satisfied: attrs>=17.4.0 in c:\\users\\tnaazsha\\anaconda3\\envs\\datascience_36\\lib\\site-packages (from jsonschema!=2.5.0,>=2.4->nbformat>=4.2->plotly==2.4.1) (21.4.0)\n",
      "Requirement already satisfied: zipp>=0.5 in c:\\users\\tnaazsha\\anaconda3\\envs\\datascience_36\\lib\\site-packages (from importlib-metadata->jsonschema!=2.5.0,>=2.4->nbformat>=4.2->plotly==2.4.1) (3.6.0)\n",
      "Requirement already satisfied: typing-extensions>=3.6.4 in c:\\users\\tnaazsha\\anaconda3\\envs\\datascience_36\\lib\\site-packages (from importlib-metadata->jsonschema!=2.5.0,>=2.4->nbformat>=4.2->plotly==2.4.1) (4.0.1)\n",
      "Requirement already satisfied: pywin32>=1.0 in c:\\users\\tnaazsha\\anaconda3\\envs\\datascience_36\\lib\\site-packages (from jupyter-core->nbformat>=4.2->plotly==2.4.1) (303)\n",
      "Requirement already satisfied: idna<4,>=2.5 in c:\\users\\tnaazsha\\anaconda3\\envs\\datascience_36\\lib\\site-packages (from requests->plotly==2.4.1) (3.3)\n",
      "Requirement already satisfied: certifi>=2017.4.17 in c:\\users\\tnaazsha\\anaconda3\\envs\\datascience_36\\lib\\site-packages (from requests->plotly==2.4.1) (2020.6.20)\n",
      "Requirement already satisfied: urllib3<1.27,>=1.21.1 in c:\\users\\tnaazsha\\anaconda3\\envs\\datascience_36\\lib\\site-packages (from requests->plotly==2.4.1) (1.26.7)\n",
      "Requirement already satisfied: charset-normalizer~=2.0.0 in c:\\users\\tnaazsha\\anaconda3\\envs\\datascience_36\\lib\\site-packages (from requests->plotly==2.4.1) (2.0.9)\n"
     ]
    }
   ],
   "source": [
    "!pip install plotly==2.4.1"
   ]
  },
  {
   "cell_type": "code",
   "execution_count": 22,
   "id": "68034d1c",
   "metadata": {},
   "outputs": [
    {
     "ename": "ModuleNotFoundError",
     "evalue": "No module named 'plotly'",
     "output_type": "error",
     "traceback": [
      "\u001b[1;31m---------------------------------------------------------------------------\u001b[0m",
      "\u001b[1;31mModuleNotFoundError\u001b[0m                       Traceback (most recent call last)",
      "\u001b[1;32m~\\AppData\\Local\\Temp/ipykernel_9932/3591164413.py\u001b[0m in \u001b[0;36m<module>\u001b[1;34m\u001b[0m\n\u001b[1;32m----> 1\u001b[1;33m \u001b[1;32mimport\u001b[0m \u001b[0mplotly\u001b[0m\u001b[1;33m\u001b[0m\u001b[1;33m\u001b[0m\u001b[0m\n\u001b[0m",
      "\u001b[1;31mModuleNotFoundError\u001b[0m: No module named 'plotly'"
     ]
    }
   ],
   "source": [
    "import plotly"
   ]
  },
  {
   "cell_type": "code",
   "execution_count": 26,
   "id": "5df79f21",
   "metadata": {},
   "outputs": [
    {
     "ename": "ModuleNotFoundError",
     "evalue": "No module named 'cufflinks'",
     "output_type": "error",
     "traceback": [
      "\u001b[1;31m---------------------------------------------------------------------------\u001b[0m",
      "\u001b[1;31mModuleNotFoundError\u001b[0m                       Traceback (most recent call last)",
      "\u001b[1;32m~\\AppData\\Local\\Temp/ipykernel_9932/568796064.py\u001b[0m in \u001b[0;36m<module>\u001b[1;34m\u001b[0m\n\u001b[1;32m----> 1\u001b[1;33m \u001b[1;32mimport\u001b[0m \u001b[0mcufflinks\u001b[0m\u001b[1;33m\u001b[0m\u001b[1;33m\u001b[0m\u001b[0m\n\u001b[0m\u001b[0;32m      2\u001b[0m \u001b[1;32mimport\u001b[0m \u001b[0msklearn\u001b[0m\u001b[1;33m\u001b[0m\u001b[1;33m\u001b[0m\u001b[0m\n\u001b[0;32m      3\u001b[0m \u001b[1;32mimport\u001b[0m \u001b[0mpydot\u001b[0m\u001b[1;33m\u001b[0m\u001b[1;33m\u001b[0m\u001b[0m\n\u001b[0;32m      4\u001b[0m \u001b[1;32mimport\u001b[0m \u001b[0mnltk\u001b[0m\u001b[1;33m\u001b[0m\u001b[1;33m\u001b[0m\u001b[0m\n",
      "\u001b[1;31mModuleNotFoundError\u001b[0m: No module named 'cufflinks'"
     ]
    }
   ],
   "source": [
    "import cufflinks\n",
    "import sklearn\n",
    "import pydot\n",
    "import nltk\n"
   ]
  },
  {
   "cell_type": "code",
   "execution_count": 27,
   "id": "4d999a25",
   "metadata": {},
   "outputs": [
    {
     "ename": "ModuleNotFoundError",
     "evalue": "No module named 'pydot'",
     "output_type": "error",
     "traceback": [
      "\u001b[1;31m---------------------------------------------------------------------------\u001b[0m",
      "\u001b[1;31mModuleNotFoundError\u001b[0m                       Traceback (most recent call last)",
      "\u001b[1;32m~\\AppData\\Local\\Temp/ipykernel_9932/3291761761.py\u001b[0m in \u001b[0;36m<module>\u001b[1;34m\u001b[0m\n\u001b[0;32m      1\u001b[0m \u001b[1;32mimport\u001b[0m \u001b[0msklearn\u001b[0m\u001b[1;33m\u001b[0m\u001b[1;33m\u001b[0m\u001b[0m\n\u001b[1;32m----> 2\u001b[1;33m \u001b[1;32mimport\u001b[0m \u001b[0mpydot\u001b[0m\u001b[1;33m\u001b[0m\u001b[1;33m\u001b[0m\u001b[0m\n\u001b[0m\u001b[0;32m      3\u001b[0m \u001b[1;32mimport\u001b[0m \u001b[0mnltk\u001b[0m\u001b[1;33m\u001b[0m\u001b[1;33m\u001b[0m\u001b[0m\n",
      "\u001b[1;31mModuleNotFoundError\u001b[0m: No module named 'pydot'"
     ]
    }
   ],
   "source": [
    "import sklearn\n",
    "import pydot\n",
    "import nltk"
   ]
  },
  {
   "cell_type": "code",
   "execution_count": 29,
   "id": "921e6f41",
   "metadata": {},
   "outputs": [],
   "source": [
    "import nltk"
   ]
  },
  {
   "cell_type": "code",
   "execution_count": 30,
   "id": "65688bb6",
   "metadata": {},
   "outputs": [
    {
     "name": "stdout",
     "output_type": "stream",
     "text": [
      "Collecting plotly==2.7\n",
      "  Downloading plotly-2.7.0.tar.gz (25.0 MB)\n",
      "Requirement already satisfied: decorator>=4.0.6 in c:\\users\\tnaazsha\\anaconda3\\envs\\datascience_36\\lib\\site-packages (from plotly==2.7) (5.1.0)\n",
      "Requirement already satisfied: nbformat>=4.2 in c:\\users\\tnaazsha\\anaconda3\\envs\\datascience_36\\lib\\site-packages (from plotly==2.7) (5.1.3)\n",
      "Requirement already satisfied: pytz in c:\\users\\tnaazsha\\anaconda3\\envs\\datascience_36\\lib\\site-packages (from plotly==2.7) (2021.3)\n",
      "Requirement already satisfied: requests in c:\\users\\tnaazsha\\anaconda3\\envs\\datascience_36\\lib\\site-packages (from plotly==2.7) (2.27.0)\n",
      "Requirement already satisfied: six in c:\\users\\tnaazsha\\anaconda3\\envs\\datascience_36\\lib\\site-packages (from plotly==2.7) (1.16.0)\n",
      "Requirement already satisfied: jsonschema!=2.5.0,>=2.4 in c:\\users\\tnaazsha\\anaconda3\\envs\\datascience_36\\lib\\site-packages (from nbformat>=4.2->plotly==2.7) (3.2.0)\n",
      "Requirement already satisfied: ipython-genutils in c:\\users\\tnaazsha\\anaconda3\\envs\\datascience_36\\lib\\site-packages (from nbformat>=4.2->plotly==2.7) (0.2.0)\n",
      "Requirement already satisfied: traitlets>=4.1 in c:\\users\\tnaazsha\\anaconda3\\envs\\datascience_36\\lib\\site-packages (from nbformat>=4.2->plotly==2.7) (4.3.3)\n",
      "Requirement already satisfied: jupyter-core in c:\\users\\tnaazsha\\anaconda3\\envs\\datascience_36\\lib\\site-packages (from nbformat>=4.2->plotly==2.7) (4.9.1)\n",
      "Requirement already satisfied: pyrsistent>=0.14.0 in c:\\users\\tnaazsha\\anaconda3\\envs\\datascience_36\\lib\\site-packages (from jsonschema!=2.5.0,>=2.4->nbformat>=4.2->plotly==2.7) (0.18.0)\n",
      "Requirement already satisfied: attrs>=17.4.0 in c:\\users\\tnaazsha\\anaconda3\\envs\\datascience_36\\lib\\site-packages (from jsonschema!=2.5.0,>=2.4->nbformat>=4.2->plotly==2.7) (21.4.0)\n",
      "Requirement already satisfied: importlib-metadata in c:\\users\\tnaazsha\\anaconda3\\envs\\datascience_36\\lib\\site-packages (from jsonschema!=2.5.0,>=2.4->nbformat>=4.2->plotly==2.7) (4.8.3)\n",
      "Requirement already satisfied: setuptools in c:\\users\\tnaazsha\\anaconda3\\envs\\datascience_36\\lib\\site-packages (from jsonschema!=2.5.0,>=2.4->nbformat>=4.2->plotly==2.7) (58.0.4)\n",
      "Requirement already satisfied: zipp>=0.5 in c:\\users\\tnaazsha\\anaconda3\\envs\\datascience_36\\lib\\site-packages (from importlib-metadata->jsonschema!=2.5.0,>=2.4->nbformat>=4.2->plotly==2.7) (3.6.0)\n",
      "Requirement already satisfied: typing-extensions>=3.6.4 in c:\\users\\tnaazsha\\anaconda3\\envs\\datascience_36\\lib\\site-packages (from importlib-metadata->jsonschema!=2.5.0,>=2.4->nbformat>=4.2->plotly==2.7) (4.0.1)\n",
      "Requirement already satisfied: pywin32>=1.0 in c:\\users\\tnaazsha\\anaconda3\\envs\\datascience_36\\lib\\site-packages (from jupyter-core->nbformat>=4.2->plotly==2.7) (303)\n",
      "Requirement already satisfied: idna<4,>=2.5 in c:\\users\\tnaazsha\\anaconda3\\envs\\datascience_36\\lib\\site-packages (from requests->plotly==2.7) (3.3)\n",
      "Requirement already satisfied: charset-normalizer~=2.0.0 in c:\\users\\tnaazsha\\anaconda3\\envs\\datascience_36\\lib\\site-packages (from requests->plotly==2.7) (2.0.9)\n",
      "Requirement already satisfied: certifi>=2017.4.17 in c:\\users\\tnaazsha\\anaconda3\\envs\\datascience_36\\lib\\site-packages (from requests->plotly==2.7) (2020.6.20)\n",
      "Requirement already satisfied: urllib3<1.27,>=1.21.1 in c:\\users\\tnaazsha\\anaconda3\\envs\\datascience_36\\lib\\site-packages (from requests->plotly==2.7) (1.26.7)\n",
      "Building wheels for collected packages: plotly\n",
      "  Building wheel for plotly (setup.py): started\n",
      "  Building wheel for plotly (setup.py): finished with status 'done'\n",
      "  Created wheel for plotly: filename=plotly-2.7.0-py3-none-any.whl size=25015297 sha256=903d7a25b4aef89dde29f2a514bdeaf58021a4a5392b1caef5fd4e38ccbaddc9\n",
      "  Stored in directory: c:\\users\\tnaazsha\\appdata\\local\\pip\\cache\\wheels\\ce\\20\\00\\79a2eb1e7b3765011f8d6636ed50c8e097e3b78b9d44fdf7df\n",
      "Successfully built plotly\n",
      "Installing collected packages: plotly\n",
      "  Attempting uninstall: plotly\n",
      "    Found existing installation: plotly 2.4.1\n",
      "    Uninstalling plotly-2.4.1:\n",
      "      Successfully uninstalled plotly-2.4.1\n",
      "Successfully installed plotly-2.7.0\n"
     ]
    }
   ],
   "source": [
    "!pip install plotly==2.4.1"
   ]
  },
  {
   "cell_type": "code",
   "execution_count": 31,
   "id": "90ad039d",
   "metadata": {},
   "outputs": [
    {
     "name": "stdout",
     "output_type": "stream",
     "text": [
      "Collecting plotly==2.4.1\n",
      "  Using cached plotly-2.4.1-py3-none-any.whl\n",
      "Requirement already satisfied: nbformat>=4.2 in c:\\users\\tnaazsha\\anaconda3\\envs\\datascience_36\\lib\\site-packages (from plotly==2.4.1) (5.1.3)\n",
      "Requirement already satisfied: requests in c:\\users\\tnaazsha\\anaconda3\\envs\\datascience_36\\lib\\site-packages (from plotly==2.4.1) (2.27.0)\n",
      "Requirement already satisfied: six in c:\\users\\tnaazsha\\anaconda3\\envs\\datascience_36\\lib\\site-packages (from plotly==2.4.1) (1.16.0)\n",
      "Requirement already satisfied: decorator>=4.0.6 in c:\\users\\tnaazsha\\anaconda3\\envs\\datascience_36\\lib\\site-packages (from plotly==2.4.1) (5.1.0)\n",
      "Requirement already satisfied: pytz in c:\\users\\tnaazsha\\anaconda3\\envs\\datascience_36\\lib\\site-packages (from plotly==2.4.1) (2021.3)\n",
      "Requirement already satisfied: jupyter-core in c:\\users\\tnaazsha\\anaconda3\\envs\\datascience_36\\lib\\site-packages (from nbformat>=4.2->plotly==2.4.1) (4.9.1)\n",
      "Requirement already satisfied: ipython-genutils in c:\\users\\tnaazsha\\anaconda3\\envs\\datascience_36\\lib\\site-packages (from nbformat>=4.2->plotly==2.4.1) (0.2.0)\n",
      "Requirement already satisfied: traitlets>=4.1 in c:\\users\\tnaazsha\\anaconda3\\envs\\datascience_36\\lib\\site-packages (from nbformat>=4.2->plotly==2.4.1) (4.3.3)\n",
      "Requirement already satisfied: jsonschema!=2.5.0,>=2.4 in c:\\users\\tnaazsha\\anaconda3\\envs\\datascience_36\\lib\\site-packages (from nbformat>=4.2->plotly==2.4.1) (3.2.0)\n",
      "Requirement already satisfied: importlib-metadata in c:\\users\\tnaazsha\\anaconda3\\envs\\datascience_36\\lib\\site-packages (from jsonschema!=2.5.0,>=2.4->nbformat>=4.2->plotly==2.4.1) (4.8.3)\n",
      "Requirement already satisfied: attrs>=17.4.0 in c:\\users\\tnaazsha\\anaconda3\\envs\\datascience_36\\lib\\site-packages (from jsonschema!=2.5.0,>=2.4->nbformat>=4.2->plotly==2.4.1) (21.4.0)\n",
      "Requirement already satisfied: pyrsistent>=0.14.0 in c:\\users\\tnaazsha\\anaconda3\\envs\\datascience_36\\lib\\site-packages (from jsonschema!=2.5.0,>=2.4->nbformat>=4.2->plotly==2.4.1) (0.18.0)\n",
      "Requirement already satisfied: setuptools in c:\\users\\tnaazsha\\anaconda3\\envs\\datascience_36\\lib\\site-packages (from jsonschema!=2.5.0,>=2.4->nbformat>=4.2->plotly==2.4.1) (58.0.4)\n",
      "Requirement already satisfied: zipp>=0.5 in c:\\users\\tnaazsha\\anaconda3\\envs\\datascience_36\\lib\\site-packages (from importlib-metadata->jsonschema!=2.5.0,>=2.4->nbformat>=4.2->plotly==2.4.1) (3.6.0)\n",
      "Requirement already satisfied: typing-extensions>=3.6.4 in c:\\users\\tnaazsha\\anaconda3\\envs\\datascience_36\\lib\\site-packages (from importlib-metadata->jsonschema!=2.5.0,>=2.4->nbformat>=4.2->plotly==2.4.1) (4.0.1)\n",
      "Requirement already satisfied: pywin32>=1.0 in c:\\users\\tnaazsha\\anaconda3\\envs\\datascience_36\\lib\\site-packages (from jupyter-core->nbformat>=4.2->plotly==2.4.1) (303)\n",
      "Requirement already satisfied: urllib3<1.27,>=1.21.1 in c:\\users\\tnaazsha\\anaconda3\\envs\\datascience_36\\lib\\site-packages (from requests->plotly==2.4.1) (1.26.7)\n",
      "Requirement already satisfied: certifi>=2017.4.17 in c:\\users\\tnaazsha\\anaconda3\\envs\\datascience_36\\lib\\site-packages (from requests->plotly==2.4.1) (2020.6.20)\n",
      "Requirement already satisfied: charset-normalizer~=2.0.0 in c:\\users\\tnaazsha\\anaconda3\\envs\\datascience_36\\lib\\site-packages (from requests->plotly==2.4.1) (2.0.9)\n",
      "Requirement already satisfied: idna<4,>=2.5 in c:\\users\\tnaazsha\\anaconda3\\envs\\datascience_36\\lib\\site-packages (from requests->plotly==2.4.1) (3.3)\n",
      "Installing collected packages: plotly\n",
      "  Attempting uninstall: plotly\n",
      "    Found existing installation: plotly 2.7.0\n",
      "    Uninstalling plotly-2.7.0:\n",
      "      Successfully uninstalled plotly-2.7.0\n",
      "Successfully installed plotly-2.4.1\n"
     ]
    }
   ],
   "source": [
    "!pip install plotly==2.4.1"
   ]
  },
  {
   "cell_type": "code",
   "execution_count": 32,
   "id": "eda4c806",
   "metadata": {},
   "outputs": [
    {
     "ename": "ModuleNotFoundError",
     "evalue": "No module named 'plotly'",
     "output_type": "error",
     "traceback": [
      "\u001b[1;31m---------------------------------------------------------------------------\u001b[0m",
      "\u001b[1;31mModuleNotFoundError\u001b[0m                       Traceback (most recent call last)",
      "\u001b[1;32m~\\AppData\\Local\\Temp/ipykernel_9932/3591164413.py\u001b[0m in \u001b[0;36m<module>\u001b[1;34m\u001b[0m\n\u001b[1;32m----> 1\u001b[1;33m \u001b[1;32mimport\u001b[0m \u001b[0mplotly\u001b[0m\u001b[1;33m\u001b[0m\u001b[1;33m\u001b[0m\u001b[0m\n\u001b[0m",
      "\u001b[1;31mModuleNotFoundError\u001b[0m: No module named 'plotly'"
     ]
    }
   ],
   "source": [
    "import plotly"
   ]
  },
  {
   "cell_type": "code",
   "execution_count": 33,
   "id": "1d2f988a",
   "metadata": {},
   "outputs": [
    {
     "name": "stdout",
     "output_type": "stream",
     "text": [
      "Package              Version\n",
      "-------------------- ---------\n",
      "argon2-cffi          21.3.0\n",
      "argon2-cffi-bindings 21.2.0\n",
      "async-generator      1.10\n",
      "attrs                21.4.0\n",
      "backcall             0.2.0\n",
      "bleach               4.1.0\n",
      "certifi              2020.6.20\n",
      "cffi                 1.15.0\n",
      "charset-normalizer   2.0.9\n",
      "colorama             0.4.4\n",
      "colorlover           0.3.0\n",
      "cufflinks            0.12.1\n",
      "cycler               0.11.0\n",
      "dataclasses          0.8\n",
      "decorator            5.1.0\n",
      "defusedxml           0.7.1\n",
      "entrypoints          0.3\n",
      "idna                 3.3\n",
      "importlib-metadata   4.8.3\n",
      "ipykernel            5.5.6\n",
      "ipython              7.16.2\n",
      "ipython-genutils     0.2.0\n",
      "ipywidgets           7.6.5\n",
      "jedi                 0.17.2\n",
      "Jinja2               3.0.3\n",
      "jsonschema           3.2.0\n",
      "jupyter-client       7.1.0\n",
      "jupyter-core         4.9.1\n",
      "jupyterlab-pygments  0.1.2\n",
      "jupyterlab-widgets   1.0.2\n",
      "MarkupSafe           2.0.1\n",
      "matplotlib           2.0.2\n",
      "mistune              0.8.4\n",
      "nbclient             0.5.9\n",
      "nbconvert            6.0.7\n",
      "nbformat             5.1.3\n",
      "nest-asyncio         1.5.4\n",
      "nltk                 3.2.3\n",
      "notebook             6.4.6\n",
      "numpy                1.19.5\n",
      "packaging            21.3\n",
      "pandas               1.1.5\n",
      "pandocfilters        1.5.0\n",
      "parso                0.7.1\n",
      "patsy                0.5.2\n",
      "pickleshare          0.7.5\n",
      "pip                  21.2.2\n",
      "plotly               2.4.1\n",
      "prometheus-client    0.12.0\n",
      "prompt-toolkit       3.0.24\n",
      "pycparser            2.21\n",
      "pydot                1.4.2\n",
      "Pygments             2.11.1\n",
      "pyparsing            3.0.6\n",
      "pyrsistent           0.18.0\n",
      "python-dateutil      2.8.2\n",
      "pytz                 2021.3\n",
      "pywin32              303\n",
      "pywinpty             1.1.6\n",
      "pyzmq                22.3.0\n",
      "requests             2.27.0\n",
      "scikit-learn         0.20.0\n",
      "scipy                1.5.4\n",
      "seaborn              0.7.1\n",
      "Send2Trash           1.8.0\n",
      "setuptools           58.0.4\n",
      "six                  1.16.0\n",
      "statsmodels          0.12.2\n",
      "tenacity             8.0.1\n",
      "terminado            0.12.1\n",
      "testpath             0.5.0\n",
      "tornado              6.1\n",
      "traitlets            4.3.3\n",
      "typing_extensions    4.0.1\n",
      "urllib3              1.26.7\n",
      "wcwidth              0.2.5\n",
      "webencodings         0.5.1\n",
      "wheel                0.37.0\n",
      "widgetsnbextension   3.5.2\n",
      "wincertstore         0.2\n",
      "zipp                 3.6.0\n"
     ]
    }
   ],
   "source": [
    "!pip list"
   ]
  },
  {
   "cell_type": "code",
   "execution_count": 36,
   "id": "aec74409",
   "metadata": {},
   "outputs": [],
   "source": [
    "import sys"
   ]
  },
  {
   "cell_type": "code",
   "execution_count": 37,
   "id": "c280a773",
   "metadata": {},
   "outputs": [
    {
     "name": "stdout",
     "output_type": "stream",
     "text": [
      "Collecting package metadata (current_repodata.json): ...working... done\n",
      "Solving environment: ...working... done\n",
      "\n",
      "# All requested packages already installed.\n",
      "\n"
     ]
    }
   ],
   "source": [
    "!conda install --yes --prefix {sys.prefix} plotly"
   ]
  },
  {
   "cell_type": "code",
   "execution_count": 38,
   "id": "e23ef1b4",
   "metadata": {},
   "outputs": [
    {
     "name": "stdout",
     "output_type": "stream",
     "text": [
      "Collecting package metadata (current_repodata.json): ...working... done\n",
      "Solving environment: ...working... done\n",
      "\n",
      "## Package Plan ##\n",
      "\n",
      "  environment location: C:\\Users\\tnaazsha\\Anaconda3\n",
      "\n",
      "  added / updated specs:\n",
      "    - progressbar2\n",
      "\n",
      "\n",
      "The following packages will be downloaded:\n",
      "\n",
      "    package                    |            build\n",
      "    ---------------------------|-----------------\n",
      "    progressbar2-3.37.1        |   py39haa95532_0          38 KB\n",
      "    pytest-runner-5.2          |             py_0          13 KB  anaconda\n",
      "    python-utils-2.5.6         |   py39haa95532_0          20 KB\n",
      "    ------------------------------------------------------------\n",
      "                                           Total:          71 KB\n",
      "\n",
      "The following NEW packages will be INSTALLED:\n",
      "\n",
      "  progressbar2       pkgs/main/win-64::progressbar2-3.37.1-py39haa95532_0\n",
      "  pytest-runner      anaconda/noarch::pytest-runner-5.2-py_0\n",
      "  python-utils       pkgs/main/win-64::python-utils-2.5.6-py39haa95532_0\n",
      "\n",
      "\n",
      "\n",
      "Downloading and Extracting Packages\n",
      "\n",
      "pytest-runner-5.2    | 13 KB     |            |   0% \n",
      "Note: you may need to restart the kernel to use updated packages.\n",
      "\n",
      "pytest-runner-5.2    | 13 KB     | ########## | 100% \n",
      "pytest-runner-5.2    | 13 KB     | ########## | 100% \n",
      "\n",
      "python-utils-2.5.6   | 20 KB     |            |   0% \n",
      "python-utils-2.5.6   | 20 KB     | ########   |  80% \n",
      "python-utils-2.5.6   | 20 KB     | ########## | 100% \n",
      "\n",
      "progressbar2-3.37.1  | 38 KB     |            |   0% \n",
      "progressbar2-3.37.1  | 38 KB     | ####2      |  42% \n",
      "progressbar2-3.37.1  | 38 KB     | ########## | 100% \n",
      "progressbar2-3.37.1  | 38 KB     | ########## | 100% \n",
      "Preparing transaction: ...working... done\n",
      "Verifying transaction: ...working... done\n",
      "Executing transaction: ...working... done\n"
     ]
    }
   ],
   "source": [
    "conda install -c anaconda progressbar2"
   ]
  },
  {
   "cell_type": "code",
   "execution_count": 41,
   "id": "d93ca0a8",
   "metadata": {},
   "outputs": [
    {
     "ename": "ModuleNotFoundError",
     "evalue": "No module named 'cufflinks'",
     "output_type": "error",
     "traceback": [
      "\u001b[1;31m---------------------------------------------------------------------------\u001b[0m",
      "\u001b[1;31mModuleNotFoundError\u001b[0m                       Traceback (most recent call last)",
      "\u001b[1;32m~\\AppData\\Local\\Temp/ipykernel_9932/54753027.py\u001b[0m in \u001b[0;36m<module>\u001b[1;34m\u001b[0m\n\u001b[0;32m      1\u001b[0m \u001b[1;32mimport\u001b[0m \u001b[0mplotly\u001b[0m\u001b[1;33m\u001b[0m\u001b[1;33m\u001b[0m\u001b[0m\n\u001b[1;32m----> 2\u001b[1;33m \u001b[1;32mimport\u001b[0m \u001b[0mcufflinks\u001b[0m\u001b[1;33m\u001b[0m\u001b[1;33m\u001b[0m\u001b[0m\n\u001b[0m\u001b[0;32m      3\u001b[0m \u001b[1;32mimport\u001b[0m \u001b[0msklearn\u001b[0m\u001b[1;33m\u001b[0m\u001b[1;33m\u001b[0m\u001b[0m\n\u001b[0;32m      4\u001b[0m \u001b[1;32mimport\u001b[0m \u001b[0mpydot\u001b[0m\u001b[1;33m\u001b[0m\u001b[1;33m\u001b[0m\u001b[0m\n\u001b[0;32m      5\u001b[0m \u001b[1;32mimport\u001b[0m \u001b[0mnltk\u001b[0m\u001b[1;33m\u001b[0m\u001b[1;33m\u001b[0m\u001b[0m\n",
      "\u001b[1;31mModuleNotFoundError\u001b[0m: No module named 'cufflinks'"
     ]
    }
   ],
   "source": [
    "import plotly\n",
    "import cufflinks\n",
    "import sklearn\n",
    "import pydot\n",
    "import nltk"
   ]
  },
  {
   "cell_type": "code",
   "execution_count": 40,
   "id": "b89a9c40",
   "metadata": {},
   "outputs": [
    {
     "name": "stdout",
     "output_type": "stream",
     "text": [
      "Collecting package metadata (current_repodata.json): ...working... done\n",
      "Solving environment: ...working... failed with initial frozen solve. Retrying with flexible solve.\n",
      "Collecting package metadata (repodata.json): ...working... done\n",
      "Solving environment: ...working... failed with initial frozen solve. Retrying with flexible solve.\n"
     ]
    },
    {
     "name": "stderr",
     "output_type": "stream",
     "text": [
      "\n",
      "PackagesNotFoundError: The following packages are not available from current channels:\n",
      "\n",
      "  - cufflinks\n",
      "\n",
      "Current channels:\n",
      "\n",
      "  - https://repo.anaconda.com/pkgs/main/win-64\n",
      "  - https://repo.anaconda.com/pkgs/main/noarch\n",
      "  - https://repo.anaconda.com/pkgs/r/win-64\n",
      "  - https://repo.anaconda.com/pkgs/r/noarch\n",
      "  - https://repo.anaconda.com/pkgs/msys2/win-64\n",
      "  - https://repo.anaconda.com/pkgs/msys2/noarch\n",
      "\n",
      "To search for alternate channels that may provide the conda package you're\n",
      "looking for, navigate to\n",
      "\n",
      "    https://anaconda.org\n",
      "\n",
      "and use the search bar at the top of the page.\n",
      "\n",
      "\n"
     ]
    }
   ],
   "source": [
    "!conda install --yes --prefix {sys.prefix} cufflinks"
   ]
  },
  {
   "cell_type": "code",
   "execution_count": 42,
   "id": "5d18a4ef",
   "metadata": {},
   "outputs": [
    {
     "ename": "ModuleNotFoundError",
     "evalue": "No module named 'cufflinks'",
     "output_type": "error",
     "traceback": [
      "\u001b[1;31m---------------------------------------------------------------------------\u001b[0m",
      "\u001b[1;31mModuleNotFoundError\u001b[0m                       Traceback (most recent call last)",
      "\u001b[1;32m~\\AppData\\Local\\Temp/ipykernel_9932/54753027.py\u001b[0m in \u001b[0;36m<module>\u001b[1;34m\u001b[0m\n\u001b[0;32m      1\u001b[0m \u001b[1;32mimport\u001b[0m \u001b[0mplotly\u001b[0m\u001b[1;33m\u001b[0m\u001b[1;33m\u001b[0m\u001b[0m\n\u001b[1;32m----> 2\u001b[1;33m \u001b[1;32mimport\u001b[0m \u001b[0mcufflinks\u001b[0m\u001b[1;33m\u001b[0m\u001b[1;33m\u001b[0m\u001b[0m\n\u001b[0m\u001b[0;32m      3\u001b[0m \u001b[1;32mimport\u001b[0m \u001b[0msklearn\u001b[0m\u001b[1;33m\u001b[0m\u001b[1;33m\u001b[0m\u001b[0m\n\u001b[0;32m      4\u001b[0m \u001b[1;32mimport\u001b[0m \u001b[0mpydot\u001b[0m\u001b[1;33m\u001b[0m\u001b[1;33m\u001b[0m\u001b[0m\n\u001b[0;32m      5\u001b[0m \u001b[1;32mimport\u001b[0m \u001b[0mnltk\u001b[0m\u001b[1;33m\u001b[0m\u001b[1;33m\u001b[0m\u001b[0m\n",
      "\u001b[1;31mModuleNotFoundError\u001b[0m: No module named 'cufflinks'"
     ]
    }
   ],
   "source": [
    "import plotly\n",
    "import cufflinks\n",
    "import sklearn\n",
    "import pydot\n",
    "import nltk"
   ]
  },
  {
   "cell_type": "code",
   "execution_count": 43,
   "id": "28c44f04",
   "metadata": {},
   "outputs": [
    {
     "name": "stdout",
     "output_type": "stream",
     "text": [
      "Collecting package metadata (current_repodata.json): ...working... done\n",
      "Solving environment: ...working... done\n",
      "\n",
      "## Package Plan ##\n",
      "\n",
      "  environment location: C:\\Users\\tnaazsha\\Anaconda3\n",
      "\n",
      "  added / updated specs:\n",
      "    - cufflinks-py\n",
      "\n",
      "\n",
      "The following packages will be downloaded:\n",
      "\n",
      "    package                    |            build\n",
      "    ---------------------------|-----------------\n",
      "    chart-studio-1.1.0         |     pyh9f0ad1d_0          51 KB  conda-forge\n",
      "    colorlover-0.3.0           |             py_0          12 KB  conda-forge\n",
      "    conda-4.11.0               |   py39hcbf5309_0        16.8 MB  conda-forge\n",
      "    cufflinks-py-0.17.3        |             py_0           4 KB  conda-forge\n",
      "    python-cufflinks-0.17.3    |             py_0          59 KB  conda-forge\n",
      "    python_abi-3.9             |           2_cp39           4 KB  conda-forge\n",
      "    ------------------------------------------------------------\n",
      "                                           Total:        17.0 MB\n",
      "\n",
      "The following NEW packages will be INSTALLED:\n",
      "\n",
      "  chart-studio       conda-forge/noarch::chart-studio-1.1.0-pyh9f0ad1d_0\n",
      "  colorlover         conda-forge/noarch::colorlover-0.3.0-py_0\n",
      "  cufflinks-py       conda-forge/noarch::cufflinks-py-0.17.3-py_0\n",
      "  python-cufflinks   conda-forge/noarch::python-cufflinks-0.17.3-py_0\n",
      "  python_abi         conda-forge/win-64::python_abi-3.9-2_cp39\n",
      "\n",
      "The following packages will be SUPERSEDED by a higher-priority channel:\n",
      "\n",
      "  conda              pkgs/main::conda-4.11.0-py39haa95532_0 --> conda-forge::conda-4.11.0-py39hcbf5309_0\n",
      "\n",
      "\n",
      "\n",
      "Downloading and Extracting Packages\n",
      "\n",
      "cufflinks-py-0.17.3  | 4 KB      |            |   0% \n",
      "cufflinks-py-0.17.3  | 4 KB      | ########## | 100% \n",
      "cufflinks-py-0.17.3  | 4 KB      | ########## | 100% \n",
      "\n",
      "chart-studio-1.1.0   | 51 KB     |            |   0% \n",
      "chart-studio-1.1.0   | 51 KB     | ########## | 100% \n",
      "chart-studio-1.1.0   | 51 KB     | ########## | 100% \n",
      "\n",
      "python-cufflinks-0.1 | 59 KB     |            |   0% \n",
      "python-cufflinks-0.1 | 59 KB     | ########## | 100% \n",
      "python-cufflinks-0.1 | 59 KB     | ########## | 100% \n",
      "\n",
      "python_abi-3.9       | 4 KB      |            |   0% \n",
      "python_abi-3.9       | 4 KB      | ########## | 100% \n",
      "\n",
      "colorlover-0.3.0     | 12 KB     |            |   0% \n",
      "colorlover-0.3.0     | 12 KB     | ########## | 100% \n",
      "\n",
      "conda-4.11.0         | 16.8 MB   |            |   0% \n",
      "conda-4.11.0         | 16.8 MB   | 2          |   2% \n",
      "conda-4.11.0         | 16.8 MB   | 9          |  10% \n",
      "conda-4.11.0         | 16.8 MB   | ##         |  20% \n",
      "conda-4.11.0         | 16.8 MB   | ##8        |  29% \n",
      "conda-4.11.0         | 16.8 MB   | ####       |  41% \n",
      "conda-4.11.0         | 16.8 MB   | #####4     |  55% \n",
      "conda-4.11.0         | 16.8 MB   | ######3    |  64% \n",
      "conda-4.11.0         | 16.8 MB   | #######4   |  75% \n",
      "conda-4.11.0         | 16.8 MB   | ########9  |  89% \n",
      "conda-4.11.0         | 16.8 MB   | #########8 |  99% \n",
      "conda-4.11.0         | 16.8 MB   | ########## | 100% \n",
      "Preparing transaction: ...working... done\n",
      "Verifying transaction: ...working... done\n",
      "Executing transaction: ...working... done\n",
      "\n",
      "Note: you may need to restart the kernel to use updated packages.\n"
     ]
    }
   ],
   "source": [
    "conda install -c conda-forge cufflinks-py "
   ]
  },
  {
   "cell_type": "code",
   "execution_count": 2,
   "id": "2af43ad9",
   "metadata": {},
   "outputs": [],
   "source": [
    "import cufflinks\n"
   ]
  },
  {
   "cell_type": "code",
   "execution_count": 3,
   "id": "257bc199",
   "metadata": {},
   "outputs": [
    {
     "ename": "SyntaxError",
     "evalue": "invalid syntax (Temp/ipykernel_11956/929035124.py, line 5)",
     "output_type": "error",
     "traceback": [
      "\u001b[1;36m  File \u001b[1;32m\"C:\\Users\\tnaazsha\\AppData\\Local\\Temp/ipykernel_11956/929035124.py\"\u001b[1;36m, line \u001b[1;32m5\u001b[0m\n\u001b[1;33m    Import nltk\u001b[0m\n\u001b[1;37m           ^\u001b[0m\n\u001b[1;31mSyntaxError\u001b[0m\u001b[1;31m:\u001b[0m invalid syntax\n"
     ]
    }
   ],
   "source": [
    "import plotly\n",
    "import cufflinks\n",
    "import sklearn\n",
    "import pydot\n",
    "import nltk"
   ]
  },
  {
   "cell_type": "code",
   "execution_count": 4,
   "id": "512e3781",
   "metadata": {},
   "outputs": [
    {
     "ename": "ModuleNotFoundError",
     "evalue": "No module named 'pydot'",
     "output_type": "error",
     "traceback": [
      "\u001b[1;31m---------------------------------------------------------------------------\u001b[0m",
      "\u001b[1;31mModuleNotFoundError\u001b[0m                       Traceback (most recent call last)",
      "\u001b[1;32m~\\AppData\\Local\\Temp/ipykernel_11956/54753027.py\u001b[0m in \u001b[0;36m<module>\u001b[1;34m\u001b[0m\n\u001b[0;32m      2\u001b[0m \u001b[1;32mimport\u001b[0m \u001b[0mcufflinks\u001b[0m\u001b[1;33m\u001b[0m\u001b[1;33m\u001b[0m\u001b[0m\n\u001b[0;32m      3\u001b[0m \u001b[1;32mimport\u001b[0m \u001b[0msklearn\u001b[0m\u001b[1;33m\u001b[0m\u001b[1;33m\u001b[0m\u001b[0m\n\u001b[1;32m----> 4\u001b[1;33m \u001b[1;32mimport\u001b[0m \u001b[0mpydot\u001b[0m\u001b[1;33m\u001b[0m\u001b[1;33m\u001b[0m\u001b[0m\n\u001b[0m\u001b[0;32m      5\u001b[0m \u001b[1;32mimport\u001b[0m \u001b[0mnltk\u001b[0m\u001b[1;33m\u001b[0m\u001b[1;33m\u001b[0m\u001b[0m\n",
      "\u001b[1;31mModuleNotFoundError\u001b[0m: No module named 'pydot'"
     ]
    }
   ],
   "source": [
    "import plotly\n",
    "import cufflinks\n",
    "import sklearn\n"
   ]
  },
  {
   "cell_type": "code",
   "execution_count": 5,
   "id": "96cb786f",
   "metadata": {},
   "outputs": [
    {
     "ename": "ModuleNotFoundError",
     "evalue": "No module named 'pydot'",
     "output_type": "error",
     "traceback": [
      "\u001b[1;31m---------------------------------------------------------------------------\u001b[0m",
      "\u001b[1;31mModuleNotFoundError\u001b[0m                       Traceback (most recent call last)",
      "\u001b[1;32m~\\AppData\\Local\\Temp/ipykernel_11956/1888181669.py\u001b[0m in \u001b[0;36m<module>\u001b[1;34m\u001b[0m\n\u001b[1;32m----> 1\u001b[1;33m \u001b[1;32mimport\u001b[0m \u001b[0mpydot\u001b[0m\u001b[1;33m\u001b[0m\u001b[1;33m\u001b[0m\u001b[0m\n\u001b[0m\u001b[0;32m      2\u001b[0m \u001b[1;32mimport\u001b[0m \u001b[0mnltk\u001b[0m\u001b[1;33m\u001b[0m\u001b[1;33m\u001b[0m\u001b[0m\n",
      "\u001b[1;31mModuleNotFoundError\u001b[0m: No module named 'pydot'"
     ]
    }
   ],
   "source": [
    "import pydot\n",
    "import nltk"
   ]
  },
  {
   "cell_type": "code",
   "execution_count": 6,
   "id": "58a27bc1",
   "metadata": {},
   "outputs": [
    {
     "name": "stdout",
     "output_type": "stream",
     "text": [
      "Collecting package metadata (current_repodata.json): ...working... done\n",
      "Solving environment: ...working... done\n",
      "\n",
      "## Package Plan ##\n",
      "\n",
      "  environment location: C:\\Users\\tnaazsha\\Anaconda3\n",
      "\n",
      "  added / updated specs:\n",
      "    - pydot\n",
      "\n",
      "\n",
      "The following packages will be downloaded:\n",
      "\n",
      "    package                    |            build\n",
      "    ---------------------------|-----------------\n",
      "    graphviz-2.38              |       hfd603c8_2        37.7 MB  anaconda\n",
      "\n",
      "Note: you may need to restart the kernel to use updated packages.    pydot-1.4.1                |   py39haa95532_0          43 KB\n",
      "\n",
      "    ------------------------------------------------------------\n",
      "                                           Total:        37.8 MB\n",
      "\n",
      "The following NEW packages will be INSTALLED:\n",
      "\n",
      "  graphviz           anaconda/win-64::graphviz-2.38-hfd603c8_2\n",
      "  pydot              pkgs/main/win-64::pydot-1.4.1-py39haa95532_0\n",
      "\n",
      "The following packages will be SUPERSEDED by a higher-priority channel:\n",
      "\n",
      "  conda              conda-forge::conda-4.11.0-py39hcbf530~ --> pkgs/main::conda-4.11.0-py39haa95532_0\n",
      "\n",
      "\n",
      "\n",
      "Downloading and Extracting Packages\n",
      "\n",
      "graphviz-2.38        | 37.7 MB   |            |   0% \n",
      "graphviz-2.38        | 37.7 MB   |            |   0% \n",
      "graphviz-2.38        | 37.7 MB   | 3          |   3% \n",
      "graphviz-2.38        | 37.7 MB   | 6          |   6% \n",
      "graphviz-2.38        | 37.7 MB   | 9          |  10% \n",
      "graphviz-2.38        | 37.7 MB   | #3         |  13% \n",
      "graphviz-2.38        | 37.7 MB   | #7         |  17% \n",
      "graphviz-2.38        | 37.7 MB   | ##3        |  24% \n",
      "graphviz-2.38        | 37.7 MB   | ##7        |  28% \n",
      "graphviz-2.38        | 37.7 MB   | ###1       |  32% \n",
      "graphviz-2.38        | 37.7 MB   | ###5       |  36% \n",
      "graphviz-2.38        | 37.7 MB   | ###9       |  40% \n",
      "graphviz-2.38        | 37.7 MB   | ####3      |  44% \n",
      "graphviz-2.38        | 37.7 MB   | ####7      |  47% \n",
      "graphviz-2.38        | 37.7 MB   | #####1     |  51% \n",
      "graphviz-2.38        | 37.7 MB   | #####5     |  55% \n",
      "graphviz-2.38        | 37.7 MB   | ######     |  61% \n",
      "graphviz-2.38        | 37.7 MB   | ######4    |  65% \n",
      "graphviz-2.38        | 37.7 MB   | ######8    |  69% \n",
      "graphviz-2.38        | 37.7 MB   | #######2   |  73% \n",
      "graphviz-2.38        | 37.7 MB   | #######6   |  76% \n",
      "graphviz-2.38        | 37.7 MB   | #######9   |  80% \n",
      "graphviz-2.38        | 37.7 MB   | ########3  |  84% \n",
      "graphviz-2.38        | 37.7 MB   | ########7  |  87% \n",
      "graphviz-2.38        | 37.7 MB   | #########  |  91% \n",
      "graphviz-2.38        | 37.7 MB   | #########4 |  95% \n",
      "graphviz-2.38        | 37.7 MB   | #########8 |  98% \n",
      "graphviz-2.38        | 37.7 MB   | ########## | 100% \n",
      "\n",
      "pydot-1.4.1          | 43 KB     |            |   0% \n",
      "pydot-1.4.1          | 43 KB     | ###7       |  37% \n",
      "pydot-1.4.1          | 43 KB     | ########## | 100% \n",
      "pydot-1.4.1          | 43 KB     | ########## | 100% \n",
      "Preparing transaction: ...working... done\n",
      "Verifying transaction: ...working... done\n",
      "Executing transaction: ...working... done\n"
     ]
    }
   ],
   "source": [
    "conda install -c anaconda pydot"
   ]
  },
  {
   "cell_type": "code",
   "execution_count": 7,
   "id": "2178bf52",
   "metadata": {},
   "outputs": [],
   "source": [
    "import pydot\n",
    "import nltk"
   ]
  },
  {
   "cell_type": "code",
   "execution_count": 8,
   "id": "f8efe737",
   "metadata": {},
   "outputs": [
    {
     "ename": "NameError",
     "evalue": "name 'Print' is not defined",
     "output_type": "error",
     "traceback": [
      "\u001b[1;31m---------------------------------------------------------------------------\u001b[0m",
      "\u001b[1;31mNameError\u001b[0m                                 Traceback (most recent call last)",
      "\u001b[1;32m~\\AppData\\Local\\Temp/ipykernel_11956/1716507799.py\u001b[0m in \u001b[0;36m<module>\u001b[1;34m\u001b[0m\n\u001b[1;32m----> 1\u001b[1;33m \u001b[0mPrint\u001b[0m\u001b[1;33m(\u001b[0m\u001b[1;34m\"numpy:\"\u001b[0m\u001b[1;33m,\u001b[0m \u001b[0mnumpy\u001b[0m\u001b[1;33m.\u001b[0m\u001b[0m__version__\u001b[0m\u001b[1;33m)\u001b[0m\u001b[1;33m\u001b[0m\u001b[1;33m\u001b[0m\u001b[0m\n\u001b[0m",
      "\u001b[1;31mNameError\u001b[0m: name 'Print' is not defined"
     ]
    }
   ],
   "source": [
    "Print(\"numpy:\", numpy.__version__)"
   ]
  },
  {
   "cell_type": "code",
   "execution_count": 9,
   "id": "5a8ab73f",
   "metadata": {},
   "outputs": [
    {
     "ename": "NameError",
     "evalue": "name 'numpy' is not defined",
     "output_type": "error",
     "traceback": [
      "\u001b[1;31m---------------------------------------------------------------------------\u001b[0m",
      "\u001b[1;31mNameError\u001b[0m                                 Traceback (most recent call last)",
      "\u001b[1;32m~\\AppData\\Local\\Temp/ipykernel_11956/3131726693.py\u001b[0m in \u001b[0;36m<module>\u001b[1;34m\u001b[0m\n\u001b[1;32m----> 1\u001b[1;33m \u001b[0mprint\u001b[0m\u001b[1;33m(\u001b[0m\u001b[1;34m\"numpy:\"\u001b[0m\u001b[1;33m,\u001b[0m \u001b[0mnumpy\u001b[0m\u001b[1;33m.\u001b[0m\u001b[0m__version__\u001b[0m\u001b[1;33m)\u001b[0m\u001b[1;33m\u001b[0m\u001b[1;33m\u001b[0m\u001b[0m\n\u001b[0m",
      "\u001b[1;31mNameError\u001b[0m: name 'numpy' is not defined"
     ]
    }
   ],
   "source": [
    "print(\"numpy:\", numpy.__version__)"
   ]
  },
  {
   "cell_type": "code",
   "execution_count": 10,
   "id": "53ec3543",
   "metadata": {},
   "outputs": [],
   "source": [
    "import numpy\n"
   ]
  },
  {
   "cell_type": "code",
   "execution_count": 11,
   "id": "82d06ed8",
   "metadata": {},
   "outputs": [
    {
     "name": "stdout",
     "output_type": "stream",
     "text": [
      "numpy: 1.20.3\n"
     ]
    }
   ],
   "source": [
    "print(\"numpy:\", numpy.__version__)"
   ]
  },
  {
   "cell_type": "code",
   "execution_count": 12,
   "id": "9e94c757",
   "metadata": {},
   "outputs": [
    {
     "name": "stdout",
     "output_type": "stream",
     "text": [
      "numpy: 1.20.3\n"
     ]
    },
    {
     "ename": "NameError",
     "evalue": "name 'pandas' is not defined",
     "output_type": "error",
     "traceback": [
      "\u001b[1;31m---------------------------------------------------------------------------\u001b[0m",
      "\u001b[1;31mNameError\u001b[0m                                 Traceback (most recent call last)",
      "\u001b[1;32m~\\AppData\\Local\\Temp/ipykernel_11956/3784510526.py\u001b[0m in \u001b[0;36m<module>\u001b[1;34m\u001b[0m\n\u001b[0;32m      1\u001b[0m \u001b[0mprint\u001b[0m\u001b[1;33m(\u001b[0m\u001b[1;34m\"numpy:\"\u001b[0m\u001b[1;33m,\u001b[0m  \u001b[0mnumpy\u001b[0m\u001b[1;33m.\u001b[0m\u001b[0m__version__\u001b[0m\u001b[1;33m)\u001b[0m\u001b[1;33m\u001b[0m\u001b[1;33m\u001b[0m\u001b[0m\n\u001b[1;32m----> 2\u001b[1;33m \u001b[0mprint\u001b[0m\u001b[1;33m(\u001b[0m\u001b[1;34m\"pandas:\"\u001b[0m\u001b[1;33m,\u001b[0m  \u001b[0mpandas\u001b[0m\u001b[1;33m.\u001b[0m\u001b[0m__version__\u001b[0m\u001b[1;33m)\u001b[0m\u001b[1;33m\u001b[0m\u001b[1;33m\u001b[0m\u001b[0m\n\u001b[0m\u001b[0;32m      3\u001b[0m \u001b[0mprint\u001b[0m\u001b[1;33m(\u001b[0m\u001b[1;34m\"matplotlib:\"\u001b[0m\u001b[1;33m,\u001b[0m  \u001b[0mmatplotlib\u001b[0m\u001b[1;33m.\u001b[0m\u001b[0m__version__\u001b[0m\u001b[1;33m)\u001b[0m\u001b[1;33m\u001b[0m\u001b[1;33m\u001b[0m\u001b[0m\n\u001b[0;32m      4\u001b[0m \u001b[0mprint\u001b[0m\u001b[1;33m(\u001b[0m\u001b[1;34m\"seaborn:\"\u001b[0m\u001b[1;33m,\u001b[0m  \u001b[0mseaborn\u001b[0m\u001b[1;33m.\u001b[0m\u001b[0m__version__\u001b[0m\u001b[1;33m)\u001b[0m\u001b[1;33m\u001b[0m\u001b[1;33m\u001b[0m\u001b[0m\n\u001b[0;32m      5\u001b[0m \u001b[0mprint\u001b[0m\u001b[1;33m(\u001b[0m\u001b[1;34m\"statsmodels:\"\u001b[0m\u001b[1;33m,\u001b[0m  \u001b[0mstatsmodels\u001b[0m\u001b[1;33m.\u001b[0m\u001b[0m__version__\u001b[0m\u001b[1;33m)\u001b[0m\u001b[1;33m\u001b[0m\u001b[1;33m\u001b[0m\u001b[0m\n",
      "\u001b[1;31mNameError\u001b[0m: name 'pandas' is not defined"
     ]
    }
   ],
   "source": [
    "print(\"numpy:\",  numpy.__version__)\n",
    "print(\"pandas:\",  pandas.__version__)\n",
    "print(\"matplotlib:\",  matplotlib.__version__)\n",
    "print(\"seaborn:\",  seaborn.__version__)\n",
    "print(\"statsmodels:\",  statsmodels.__version__)\n",
    "print(\"plotly:\",  plotly.__version__)\n",
    "print(\"cufflinks:\",  cufflinks.__version__)\n",
    "print(\"sklearn:\",  sklearn.__version__)\n",
    "print(\"pydot:\",  pydot.__version__)\n",
    "print(\"nltk:\",  nltk.__version__)"
   ]
  },
  {
   "cell_type": "code",
   "execution_count": 13,
   "id": "5303da92",
   "metadata": {},
   "outputs": [],
   "source": [
    "import numpy\n",
    "import pandas\n",
    "import matplotlib\n",
    "import seaborn\n",
    "import statsmodels\n",
    "import plotly\n",
    "import cufflinks\n",
    "import sklearn\n",
    "\n",
    "import pydot\n",
    "import nltk"
   ]
  },
  {
   "cell_type": "code",
   "execution_count": 14,
   "id": "b5961ec3",
   "metadata": {},
   "outputs": [
    {
     "name": "stdout",
     "output_type": "stream",
     "text": [
      "numpy: 1.20.3\n",
      "pandas: 1.3.4\n",
      "matplotlib: 3.4.3\n",
      "seaborn: 0.11.2\n",
      "statsmodels: 0.12.2\n",
      "plotly: 4.14.3\n",
      "cufflinks: 0.17.3\n",
      "sklearn: 0.24.2\n",
      "pydot: 1.4.1\n",
      "nltk: 3.6.5\n"
     ]
    }
   ],
   "source": [
    "print(\"numpy:\",  numpy.__version__)\n",
    "print(\"pandas:\",  pandas.__version__)\n",
    "print(\"matplotlib:\",  matplotlib.__version__)\n",
    "print(\"seaborn:\",  seaborn.__version__)\n",
    "print(\"statsmodels:\",  statsmodels.__version__)\n",
    "print(\"plotly:\",  plotly.__version__)\n",
    "print(\"cufflinks:\",  cufflinks.__version__)\n",
    "print(\"sklearn:\",  sklearn.__version__)\n",
    "print(\"pydot:\",  pydot.__version__)\n",
    "print(\"nltk:\",  nltk.__version__)\n"
   ]
  },
  {
   "cell_type": "code",
   "execution_count": 15,
   "id": "34dcf729",
   "metadata": {},
   "outputs": [
    {
     "name": "stdout",
     "output_type": "stream",
     "text": [
      "our python version is: 3.9.7\n"
     ]
    }
   ],
   "source": [
    "from platform import python_version\n",
    "print(\"our python version is:\",python_version())\n"
   ]
  },
  {
   "cell_type": "markdown",
   "id": "6878979f",
   "metadata": {},
   "source": [
    "# for the titles\n",
    "## for the main headings\n",
    "### for the subheadings\n",
    "#### for the smaller subheadings\n",
    "##### for the italic subheadings"
   ]
  },
  {
   "cell_type": "code",
   "execution_count": null,
   "id": "edba925d",
   "metadata": {},
   "outputs": [],
   "source": []
  },
  {
   "cell_type": "markdown",
   "id": "522ce224",
   "metadata": {},
   "source": [
    "__string__ or **string** for bold text\n",
    "_string_ or *string*  for italic text"
   ]
  },
  {
   "cell_type": "code",
   "execution_count": null,
   "id": "189e0cc7",
   "metadata": {},
   "outputs": [],
   "source": []
  },
  {
   "cell_type": "markdown",
   "id": "e0687538",
   "metadata": {},
   "source": [
    "` on both sides to get monospace fonts`"
   ]
  },
  {
   "cell_type": "markdown",
   "id": "c42cd95a",
   "metadata": {},
   "source": [
    "<br> wherever you want a line break, as the notebook sometimes <br>doesn`t give you the required line break where you want it"
   ]
  },
  {
   "cell_type": "code",
   "execution_count": null,
   "id": "7977ffc9",
   "metadata": {},
   "outputs": [],
   "source": []
  },
  {
   "cell_type": "markdown",
   "id": "09e19c6c",
   "metadata": {},
   "source": [
    "__string__ or **string** for bold text\n",
    "_string_ or *string*  for italic text"
   ]
  },
  {
   "cell_type": "markdown",
   "id": "2419f400",
   "metadata": {},
   "source": [
    "> to indent the text\n",
    ">> for further indenting it, and so on\n",
    "\n",
    "\n"
   ]
  },
  {
   "cell_type": "code",
   "execution_count": null,
   "id": "ea7c5a33",
   "metadata": {},
   "outputs": [],
   "source": []
  },
  {
   "cell_type": "markdown",
   "id": "808c6b7e",
   "metadata": {},
   "source": [
    "> to indent the text\n",
    ">> for further indenting it, and so on\n"
   ]
  },
  {
   "cell_type": "markdown",
   "id": "83c84bf9",
   "metadata": {},
   "source": [
    "-  bullet\n",
    "1.  number"
   ]
  },
  {
   "cell_type": "code",
   "execution_count": null,
   "id": "239b85f1",
   "metadata": {},
   "outputs": [],
   "source": []
  },
  {
   "cell_type": "markdown",
   "id": "dc125a91",
   "metadata": {},
   "source": [
    "<font color = blue> String </font>"
   ]
  },
  {
   "cell_type": "markdown",
   "id": "c39c265b",
   "metadata": {},
   "source": [
    "<font color = red> String </font>"
   ]
  },
  {
   "cell_type": "code",
   "execution_count": null,
   "id": "6c230ae9",
   "metadata": {},
   "outputs": [],
   "source": []
  },
  {
   "cell_type": "markdown",
   "id": "f8f44ba1",
   "metadata": {},
   "source": [
    "$ on both the sides of the text to write LaTeX equations$"
   ]
  },
  {
   "cell_type": "markdown",
   "id": "a6dc0f06",
   "metadata": {},
   "source": [
    "\n",
    "$(\\frac{a_1}{a_2} + \\frac{a_3}{a_4})^2 = (a_5)^3$"
   ]
  },
  {
   "cell_type": "code",
   "execution_count": 10,
   "id": "e9b9f026",
   "metadata": {},
   "outputs": [
    {
     "name": "stdout",
     "output_type": "stream",
     "text": [
      "This is my first line of code in python\n"
     ]
    }
   ],
   "source": [
    "print(\"This is my first line of code in python\")"
   ]
  },
  {
   "cell_type": "code",
   "execution_count": 12,
   "id": "d51b4908",
   "metadata": {},
   "outputs": [
    {
     "name": "stdout",
     "output_type": "stream",
     "text": [
      "hello\n",
      "bye\n"
     ]
    }
   ],
   "source": [
    "print(\"hello\\nbye\")"
   ]
  },
  {
   "cell_type": "code",
   "execution_count": 13,
   "id": "40247929",
   "metadata": {},
   "outputs": [],
   "source": [
    "a=5\n",
    "b=6"
   ]
  },
  {
   "cell_type": "code",
   "execution_count": 15,
   "id": "d0861a4b",
   "metadata": {},
   "outputs": [
    {
     "name": "stdout",
     "output_type": "stream",
     "text": [
      "5\n"
     ]
    }
   ],
   "source": [
    "print (a)"
   ]
  },
  {
   "cell_type": "code",
   "execution_count": 16,
   "id": "669eb3ec",
   "metadata": {},
   "outputs": [
    {
     "name": "stdout",
     "output_type": "stream",
     "text": [
      "11\n"
     ]
    }
   ],
   "source": [
    "print (a+b)"
   ]
  },
  {
   "cell_type": "code",
   "execution_count": 17,
   "id": "b33ee2df",
   "metadata": {},
   "outputs": [
    {
     "name": "stdout",
     "output_type": "stream",
     "text": [
      "-1\n"
     ]
    }
   ],
   "source": [
    "print(a-b)"
   ]
  },
  {
   "cell_type": "code",
   "execution_count": 18,
   "id": "28cd51ff",
   "metadata": {},
   "outputs": [
    {
     "name": "stdout",
     "output_type": "stream",
     "text": [
      "30\n"
     ]
    }
   ],
   "source": [
    "print(a*b)"
   ]
  },
  {
   "cell_type": "code",
   "execution_count": 19,
   "id": "f08eaeca",
   "metadata": {},
   "outputs": [
    {
     "name": "stdout",
     "output_type": "stream",
     "text": [
      "1.2\n"
     ]
    }
   ],
   "source": [
    "print(b/a)"
   ]
  },
  {
   "cell_type": "code",
   "execution_count": 20,
   "id": "0604800c",
   "metadata": {},
   "outputs": [
    {
     "name": "stdout",
     "output_type": "stream",
     "text": [
      "1\n"
     ]
    }
   ],
   "source": [
    "print(b//a)"
   ]
  },
  {
   "cell_type": "code",
   "execution_count": 21,
   "id": "0e3ddf38",
   "metadata": {},
   "outputs": [
    {
     "name": "stdout",
     "output_type": "stream",
     "text": [
      "1\n"
     ]
    }
   ],
   "source": [
    "print(b%a)"
   ]
  },
  {
   "cell_type": "code",
   "execution_count": 22,
   "id": "ca259381",
   "metadata": {},
   "outputs": [
    {
     "name": "stdout",
     "output_type": "stream",
     "text": [
      "5\n"
     ]
    }
   ],
   "source": [
    "print(a%b)"
   ]
  },
  {
   "cell_type": "code",
   "execution_count": 23,
   "id": "22d3bb96",
   "metadata": {},
   "outputs": [
    {
     "name": "stdout",
     "output_type": "stream",
     "text": [
      "0.8333333333333334\n"
     ]
    }
   ],
   "source": [
    "print(a/b)"
   ]
  },
  {
   "cell_type": "code",
   "execution_count": 25,
   "id": "14e61755",
   "metadata": {},
   "outputs": [
    {
     "name": "stdout",
     "output_type": "stream",
     "text": [
      "15625\n"
     ]
    }
   ],
   "source": [
    "print(a**b)"
   ]
  },
  {
   "cell_type": "code",
   "execution_count": 27,
   "id": "d942d556",
   "metadata": {},
   "outputs": [
    {
     "name": "stdout",
     "output_type": "stream",
     "text": [
      "38\n"
     ]
    }
   ],
   "source": [
    "#BEDMAS\n",
    "print((a*7+b-3))"
   ]
  },
  {
   "cell_type": "code",
   "execution_count": 28,
   "id": "9043b968",
   "metadata": {},
   "outputs": [
    {
     "name": "stdout",
     "output_type": "stream",
     "text": [
      "3\n"
     ]
    }
   ],
   "source": [
    "c=2\n",
    "c+=1\n",
    "print(c)"
   ]
  },
  {
   "cell_type": "code",
   "execution_count": 29,
   "id": "05201dcb",
   "metadata": {},
   "outputs": [
    {
     "name": "stdout",
     "output_type": "stream",
     "text": [
      "0\n"
     ]
    }
   ],
   "source": [
    "c-=3\n",
    "print(c)"
   ]
  },
  {
   "cell_type": "code",
   "execution_count": 31,
   "id": "1a733ec8",
   "metadata": {},
   "outputs": [
    {
     "name": "stdout",
     "output_type": "stream",
     "text": [
      "True\n"
     ]
    }
   ],
   "source": [
    "print(3<4)"
   ]
  },
  {
   "cell_type": "code",
   "execution_count": 33,
   "id": "ea741836",
   "metadata": {},
   "outputs": [
    {
     "name": "stdout",
     "output_type": "stream",
     "text": [
      "False\n"
     ]
    }
   ],
   "source": [
    "print(3>3)"
   ]
  },
  {
   "cell_type": "code",
   "execution_count": 34,
   "id": "d0daaed1",
   "metadata": {},
   "outputs": [
    {
     "name": "stdout",
     "output_type": "stream",
     "text": [
      "3\n"
     ]
    }
   ],
   "source": [
    "print(3 or 4)"
   ]
  },
  {
   "cell_type": "code",
   "execution_count": 37,
   "id": "02b2b73a",
   "metadata": {},
   "outputs": [
    {
     "name": "stdout",
     "output_type": "stream",
     "text": [
      "True\n"
     ]
    }
   ],
   "source": [
    "print(True  or False)"
   ]
  },
  {
   "cell_type": "code",
   "execution_count": 38,
   "id": "eae7ee01",
   "metadata": {},
   "outputs": [
    {
     "name": "stdout",
     "output_type": "stream",
     "text": [
      "False\n"
     ]
    }
   ],
   "source": [
    "print(True and False)"
   ]
  },
  {
   "cell_type": "code",
   "execution_count": 40,
   "id": "14489c88",
   "metadata": {},
   "outputs": [
    {
     "name": "stdout",
     "output_type": "stream",
     "text": [
      "True\n"
     ]
    }
   ],
   "source": [
    "print(a!=b)"
   ]
  },
  {
   "cell_type": "code",
   "execution_count": 42,
   "id": "5102404e",
   "metadata": {},
   "outputs": [
    {
     "name": "stdout",
     "output_type": "stream",
     "text": [
      "True\n"
     ]
    }
   ],
   "source": [
    "print(True and not False)"
   ]
  },
  {
   "cell_type": "code",
   "execution_count": 43,
   "id": "94c04c53",
   "metadata": {},
   "outputs": [
    {
     "name": "stdout",
     "output_type": "stream",
     "text": [
      "I AM UPPER CASE\n"
     ]
    }
   ],
   "source": [
    "small=\"i am upper case\"\n",
    "print(small.upper())"
   ]
  },
  {
   "cell_type": "code",
   "execution_count": 44,
   "id": "68f4adc6",
   "metadata": {},
   "outputs": [
    {
     "name": "stdout",
     "output_type": "stream",
     "text": [
      "i am upper case\n"
     ]
    }
   ],
   "source": [
    "print(small.lower())"
   ]
  },
  {
   "cell_type": "code",
   "execution_count": 49,
   "id": "89c0ab20",
   "metadata": {},
   "outputs": [
    {
     "name": "stdout",
     "output_type": "stream",
     "text": [
      "some sentence         \n",
      "some sentence\n"
     ]
    }
   ],
   "source": [
    "some_sentence=\"some sentence         \"\n",
    "print(some_sentence)\n",
    "print(some_sentence.rstrip())"
   ]
  },
  {
   "cell_type": "code",
   "execution_count": 50,
   "id": "3f2aadbc",
   "metadata": {},
   "outputs": [
    {
     "name": "stdout",
     "output_type": "stream",
     "text": [
      "        some sentence2\n",
      "some sentence2\n"
     ]
    }
   ],
   "source": [
    "some_sentence2=\"        some sentence2\"\n",
    "print (some_sentence2)\n",
    "print (some_sentence2.lstrip())"
   ]
  },
  {
   "cell_type": "code",
   "execution_count": 61,
   "id": "5401154e",
   "metadata": {},
   "outputs": [
    {
     "name": "stdout",
     "output_type": "stream",
     "text": [
      "3%\n",
      "3\n"
     ]
    }
   ],
   "source": [
    "some_sentence3=\"3%\"\n",
    "print(some_sentence3)\n",
    "print(some_sentence3.rstrip('%'))"
   ]
  },
  {
   "cell_type": "code",
   "execution_count": 66,
   "id": "47edbceb",
   "metadata": {},
   "outputs": [
    {
     "name": "stdout",
     "output_type": "stream",
     "text": [
      "   There is space at the start     \n",
      "There is space at the start\n"
     ]
    }
   ],
   "source": [
    "increment = \"   There is space at the start     \"\n",
    "print(increment)\n",
    "print(increment.strip())"
   ]
  },
  {
   "cell_type": "code",
   "execution_count": 72,
   "id": "b4bd8278",
   "metadata": {},
   "outputs": [
    {
     "name": "stdout",
     "output_type": "stream",
     "text": [
      "***444###\n",
      "444\n"
     ]
    }
   ],
   "source": [
    "no='***444###'\n",
    "print(no)\n",
    "print(no.rstrip('#').lstrip('*'))"
   ]
  },
  {
   "cell_type": "code",
   "execution_count": 86,
   "id": "c6556a31",
   "metadata": {},
   "outputs": [
    {
     "name": "stdout",
     "output_type": "stream",
     "text": [
      "2\n",
      "apples\n",
      "apple\n"
     ]
    }
   ],
   "source": [
    "val = \"2 apples\"\n",
    "print (val[0])\n",
    "print(val[2:])\n",
    "print(val[2:7])"
   ]
  },
  {
   "cell_type": "code",
   "execution_count": 95,
   "id": "e8264874",
   "metadata": {},
   "outputs": [
    {
     "name": "stdout",
     "output_type": "stream",
     "text": [
      "5\n",
      "oranges\n",
      "3\n",
      "monkeys\n",
      "monkeys\n",
      "5 oranges 3 \n"
     ]
    }
   ],
   "source": [
    "val2=\"5 oranges 3 monkeys\"\n",
    "print(val2[0])\n",
    "print(val2[2:9])\n",
    "print(val2[10:11])\n",
    "print(val2[12:])\n",
    "print(val2[-7:])\n",
    "print(val2[:-7])"
   ]
  },
  {
   "cell_type": "code",
   "execution_count": 112,
   "id": "7459db0c",
   "metadata": {},
   "outputs": [
    {
     "name": "stdout",
     "output_type": "stream",
     "text": [
      "246\n",
      "135\n",
      "135\n"
     ]
    }
   ],
   "source": [
    "NUM='123456'\n",
    "evens=NUM[1::2]\n",
    "odds=NUM[0::2]\n",
    "odds1=NUM[::2]\n",
    "print(evens)\n",
    "print(odds)\n",
    "print(odds1)"
   ]
  },
  {
   "cell_type": "code",
   "execution_count": 122,
   "id": "f5c98d39",
   "metadata": {},
   "outputs": [
    {
     "name": "stdout",
     "output_type": "stream",
     "text": [
      "Monty Python\n",
      "Monty Python \n"
     ]
    }
   ],
   "source": [
    "first=\"Monty\"\n",
    "second=\"Python\"\n",
    "print(first +\" \" +second )\n",
    "print(\"{0} {1} \".format(first, second))"
   ]
  },
  {
   "cell_type": "code",
   "execution_count": 123,
   "id": "97da638d",
   "metadata": {},
   "outputs": [
    {
     "name": "stdout",
     "output_type": "stream",
     "text": [
      "I am 30 years old\n"
     ]
    }
   ],
   "source": [
    "age=30\n",
    "print(\"I am \"+ str(age) + \" years old\")\n"
   ]
  },
  {
   "cell_type": "code",
   "execution_count": 132,
   "id": "27be4016",
   "metadata": {},
   "outputs": [
    {
     "name": "stdout",
     "output_type": "stream",
     "text": [
      "T is 39\n"
     ]
    }
   ],
   "source": [
    "name =\"T is\"\n",
    "my_age=39\n",
    "name += ' ' + str(my_age)\n",
    "print(name)"
   ]
  },
  {
   "cell_type": "code",
   "execution_count": null,
   "id": "1f623799",
   "metadata": {},
   "outputs": [],
   "source": []
  },
  {
   "cell_type": "code",
   "execution_count": null,
   "id": "f9471416",
   "metadata": {},
   "outputs": [],
   "source": []
  },
  {
   "cell_type": "code",
   "execution_count": 139,
   "id": "6883c46c",
   "metadata": {},
   "outputs": [
    {
     "name": "stdout",
     "output_type": "stream",
     "text": [
      "Ravi\n",
      "Kumar\n",
      "003\n"
     ]
    }
   ],
   "source": [
    "\n",
    "input_str = \"Kumar_Ravi_003\"\n",
    "first_name = input_str[6:10]\n",
    "second_name = input_str[:5]\n",
    "customer_code = input_str[11:]\n",
    "print(first_name)\n",
    "print(second_name)\n",
    "print(customer_code)"
   ]
  },
  {
   "cell_type": "code",
   "execution_count": 142,
   "id": "c5a950e4",
   "metadata": {},
   "outputs": [
    {
     "name": "stdout",
     "output_type": "stream",
     "text": [
      "Python\n",
      "Python\n"
     ]
    }
   ],
   "source": [
    "stringmy=\"I love Python programming\"\n",
    "print(stringmy[7:13])\n",
    "print(stringmy[-18:-12])"
   ]
  },
  {
   "cell_type": "code",
   "execution_count": 143,
   "id": "b5cf18ce",
   "metadata": {},
   "outputs": [
    {
     "name": "stdout",
     "output_type": "stream",
     "text": [
      "25\n"
     ]
    }
   ],
   "source": [
    "print(len(stringmy))\n"
   ]
  },
  {
   "cell_type": "code",
   "execution_count": 144,
   "id": "d2126475",
   "metadata": {},
   "outputs": [
    {
     "name": "stdout",
     "output_type": "stream",
     "text": [
      "{'orange', 'banana', 'apple', 'pear'}\n"
     ]
    }
   ],
   "source": [
    " basket = {'apple', 'orange', 'apple', 'pear', 'orange', 'banana'}\n",
    "print(basket)"
   ]
  },
  {
   "cell_type": "code",
   "execution_count": 148,
   "id": "68085115",
   "metadata": {},
   "outputs": [
    {
     "name": "stdout",
     "output_type": "stream",
     "text": [
      "False\n",
      "True\n"
     ]
    }
   ],
   "source": [
    "print(\"xxx\" in basket)\n",
    "print(\"apple\" in basket)"
   ]
  },
  {
   "cell_type": "code",
   "execution_count": 154,
   "id": "8cb04d2c",
   "metadata": {},
   "outputs": [
    {
     "name": "stdout",
     "output_type": "stream",
     "text": [
      "{'b', 'r', 'd', 'a', 'c'}\n"
     ]
    },
    {
     "data": {
      "text/plain": [
       "{'a', 'c', 'l', 'm', 'z'}"
      ]
     },
     "execution_count": 154,
     "metadata": {},
     "output_type": "execute_result"
    }
   ],
   "source": [
    "a = set('abracadabra')\n",
    "b = set('alacazam')\n",
    "print(a)\n",
    "b"
   ]
  },
  {
   "cell_type": "code",
   "execution_count": 155,
   "id": "6ac041f1",
   "metadata": {},
   "outputs": [
    {
     "name": "stdout",
     "output_type": "stream",
     "text": [
      "{'b', 'd', 'r'}\n"
     ]
    }
   ],
   "source": [
    "print (a-b)"
   ]
  },
  {
   "cell_type": "code",
   "execution_count": 156,
   "id": "01bbb2d7",
   "metadata": {},
   "outputs": [
    {
     "name": "stdout",
     "output_type": "stream",
     "text": [
      "{'z', 'l', 'm'}\n"
     ]
    }
   ],
   "source": [
    "print(b-a)"
   ]
  },
  {
   "cell_type": "code",
   "execution_count": 157,
   "id": "841f7175",
   "metadata": {},
   "outputs": [
    {
     "name": "stdout",
     "output_type": "stream",
     "text": [
      "{'b', 'z', 'r', 'l', 'd', 'a', 'm', 'c'}\n"
     ]
    }
   ],
   "source": [
    "print(a|b)"
   ]
  },
  {
   "cell_type": "code",
   "execution_count": 158,
   "id": "d298eaaf",
   "metadata": {},
   "outputs": [
    {
     "name": "stdout",
     "output_type": "stream",
     "text": [
      "{'c', 'a'}\n"
     ]
    }
   ],
   "source": [
    "print(a&b)"
   ]
  },
  {
   "cell_type": "code",
   "execution_count": 159,
   "id": "41e53993",
   "metadata": {},
   "outputs": [
    {
     "data": {
      "text/plain": [
       "{'b', 'd', 'l', 'm', 'r', 'z'}"
      ]
     },
     "execution_count": 159,
     "metadata": {},
     "output_type": "execute_result"
    }
   ],
   "source": [
    "#a or b, not in both\n",
    "a^b"
   ]
  },
  {
   "cell_type": "code",
   "execution_count": 160,
   "id": "d079d05d",
   "metadata": {},
   "outputs": [
    {
     "data": {
      "text/plain": [
       "{'d', 'r'}"
      ]
     },
     "execution_count": 160,
     "metadata": {},
     "output_type": "execute_result"
    }
   ],
   "source": [
    "a = {x for x in 'abracadabra' if x not in 'abc'}\n",
    "a"
   ]
  },
  {
   "cell_type": "code",
   "execution_count": 195,
   "id": "54a2130b",
   "metadata": {},
   "outputs": [
    {
     "data": {
      "text/plain": [
       "{'jack': 4098, 'naa': 100, 'aaa': 200}"
      ]
     },
     "execution_count": 195,
     "metadata": {},
     "output_type": "execute_result"
    }
   ],
   "source": [
    "tel = {'jack': 4098, 'sape': 4139}\n",
    "tel['guido'] = 4127\n",
    "tel\n",
    "del tel['guido']\n",
    "tel\n",
    "del tel['sape']\n",
    "tel\n",
    "tel['naa'] =100\n",
    "tel['aaa']=200\n",
    "tel\n"
   ]
  },
  {
   "cell_type": "code",
   "execution_count": 196,
   "id": "d0c57a81",
   "metadata": {},
   "outputs": [
    {
     "name": "stdout",
     "output_type": "stream",
     "text": [
      "['jack', 'naa', 'aaa']\n",
      "['aaa', 'jack', 'naa']\n"
     ]
    }
   ],
   "source": [
    "print(list(tel))\n",
    "print(sorted(tel))"
   ]
  },
  {
   "cell_type": "code",
   "execution_count": 1,
   "id": "a73a360a",
   "metadata": {},
   "outputs": [
    {
     "name": "stdout",
     "output_type": "stream",
     "text": [
      "[]\n"
     ]
    }
   ],
   "source": [
    "initalList=[]\n",
    "print(initalList)"
   ]
  },
  {
   "cell_type": "code",
   "execution_count": 3,
   "id": "83c9b56e",
   "metadata": {},
   "outputs": [
    {
     "name": "stdout",
     "output_type": "stream",
     "text": [
      "['R', 'Python', 'SAS', 'Scala', 42]\n"
     ]
    }
   ],
   "source": [
    "DA_languages = ['R','Python', 'SAS', ')"
   ]
  },
  {
   "cell_type": "code",
   "execution_count": 5,
   "id": "6e65e8af",
   "metadata": {},
   "outputs": [
    {
     "name": "stdout",
     "output_type": "stream",
     "text": [
      "R\n"
     ]
    }
   ],
   "source": [
    "print(DA_languages[0])"
   ]
  },
  {
   "cell_type": "code",
   "execution_count": 7,
   "id": "8979c48d",
   "metadata": {},
   "outputs": [
    {
     "name": "stdout",
     "output_type": "stream",
     "text": [
      "['R', 'Python', 'SAS']\n"
     ]
    }
   ],
   "source": [
    "print(DA_languages[0:3])"
   ]
  },
  {
   "cell_type": "code",
   "execution_count": 8,
   "id": "426ab672",
   "metadata": {},
   "outputs": [
    {
     "name": "stdout",
     "output_type": "stream",
     "text": [
      "['Python', 'SAS']\n"
     ]
    }
   ],
   "source": [
    "print(DA_languages[1:3])"
   ]
  },
  {
   "cell_type": "code",
   "execution_count": 10,
   "id": "7dc951c0",
   "metadata": {},
   "outputs": [
    {
     "name": "stdout",
     "output_type": "stream",
     "text": [
      "42\n"
     ]
    }
   ],
   "source": [
    "#reverse index\n",
    "print(DA_languages[-1])"
   ]
  },
  {
   "cell_type": "code",
   "execution_count": 11,
   "id": "8c813814",
   "metadata": {},
   "outputs": [
    {
     "name": "stdout",
     "output_type": "stream",
     "text": [
      "['R', 'Python', 'SAS', 'Scala', 42, 'Java']\n"
     ]
    }
   ],
   "source": [
    "DA_languages.append('Java')\n",
    "print(DA_languages)"
   ]
  },
  {
   "cell_type": "code",
   "execution_count": 12,
   "id": "a39c944e",
   "metadata": {},
   "outputs": [
    {
     "name": "stdout",
     "output_type": "stream",
     "text": [
      "['R', 'Python', 'SAS', 'Scala', 42]\n"
     ]
    }
   ],
   "source": [
    "DA_languages.pop()\n",
    "print(DA_languages)"
   ]
  },
  {
   "cell_type": "code",
   "execution_count": 13,
   "id": "47c10227",
   "metadata": {},
   "outputs": [
    {
     "name": "stdout",
     "output_type": "stream",
     "text": [
      "['Python', 'SAS', 'Scala', 42]\n"
     ]
    }
   ],
   "source": [
    "DA_languages.pop(0)\n",
    "print(DA_languages)"
   ]
  },
  {
   "cell_type": "code",
   "execution_count": 14,
   "id": "677197ff",
   "metadata": {},
   "outputs": [
    {
     "name": "stdout",
     "output_type": "stream",
     "text": [
      "['Python', 'SAS', 'Scala', 42, 42]\n"
     ]
    }
   ],
   "source": [
    "DA_languages.append(42)\n",
    "print(DA_languages)"
   ]
  },
  {
   "cell_type": "code",
   "execution_count": 15,
   "id": "2bf6dc68",
   "metadata": {},
   "outputs": [
    {
     "name": "stdout",
     "output_type": "stream",
     "text": [
      "['Python', 'SAS', 'Scala', 42, 42, 'R']\n"
     ]
    }
   ],
   "source": [
    "DA_languages.append(\"R\")\n",
    "print(DA_languages)"
   ]
  },
  {
   "cell_type": "code",
   "execution_count": 16,
   "id": "3905627f",
   "metadata": {},
   "outputs": [
    {
     "name": "stdout",
     "output_type": "stream",
     "text": [
      "['Python', 'SAS', 'Scala', 42, 42]\n"
     ]
    }
   ],
   "source": [
    "DA_languages.remove(\"R\")\n",
    "print(DA_languages)"
   ]
  },
  {
   "cell_type": "code",
   "execution_count": 17,
   "id": "d64dd643",
   "metadata": {},
   "outputs": [
    {
     "name": "stdout",
     "output_type": "stream",
     "text": [
      "['Python', 'SAS', 'Scala', 42, 42]\n"
     ]
    }
   ],
   "source": [
    "newList=DA_languages\n",
    "print(newList)"
   ]
  },
  {
   "cell_type": "code",
   "execution_count": 21,
   "id": "8c334d6c",
   "metadata": {},
   "outputs": [
    {
     "name": "stdout",
     "output_type": "stream",
     "text": [
      "1499857696064\n",
      "1499857696064\n",
      "1499857696064\n",
      "['Python', 'SAS', 'Scala']\n"
     ]
    }
   ],
   "source": [
    "print(id(DA_languages))\n",
    "print(id(newList))\n",
    "newList.remove(42)\n",
    "print(id(newList))\n",
    "print(newList)"
   ]
  },
  {
   "cell_type": "code",
   "execution_count": 26,
   "id": "f148b046",
   "metadata": {},
   "outputs": [
    {
     "name": "stdout",
     "output_type": "stream",
     "text": [
      "['Python', 'SAS', 'Scala']\n",
      "None\n",
      "140704052026584\n"
     ]
    }
   ],
   "source": [
    "newList2=print(DA_languages[:])\n",
    "print(newList2)\n",
    "print(id(newList2))"
   ]
  },
  {
   "cell_type": "code",
   "execution_count": 27,
   "id": "98d9edbe",
   "metadata": {},
   "outputs": [
    {
     "name": "stdout",
     "output_type": "stream",
     "text": [
      "['Python', 'SAS', 'Scala']\n",
      "1499857707904\n"
     ]
    }
   ],
   "source": [
    "newList2=DA_languages.copy()\n",
    "print(newList2)\n",
    "print(id(newList2))"
   ]
  },
  {
   "cell_type": "code",
   "execution_count": 28,
   "id": "f40b0a8a",
   "metadata": {},
   "outputs": [
    {
     "data": {
      "text/plain": [
       "\"Hi Saif, this is to inform you that I'm not well today.Thanks\""
      ]
     },
     "execution_count": 28,
     "metadata": {},
     "output_type": "execute_result"
    }
   ],
   "source": [
    "a_sentence = \"Hi Saif, this is to inform you that I'm not well today.Thanks\"\n",
    "a_sentence"
   ]
  },
  {
   "cell_type": "code",
   "execution_count": 34,
   "id": "c5182d8e",
   "metadata": {},
   "outputs": [
    {
     "data": {
      "text/plain": [
       "['Hi',\n",
       " 'Saif,',\n",
       " 'this',\n",
       " 'is',\n",
       " 'to',\n",
       " 'inform',\n",
       " 'you',\n",
       " 'that',\n",
       " \"I'm\",\n",
       " 'not',\n",
       " 'well',\n",
       " 'today.Thanks']"
      ]
     },
     "execution_count": 34,
     "metadata": {},
     "output_type": "execute_result"
    }
   ],
   "source": [
    "wordsInSentence= a_sentence.split()\n",
    "a_sentence\n",
    "\n",
    "wordsInSentence"
   ]
  },
  {
   "cell_type": "code",
   "execution_count": 45,
   "id": "b745c0ba",
   "metadata": {},
   "outputs": [
    {
     "name": "stdout",
     "output_type": "stream",
     "text": [
      "Hi Saif, this is to inform you that I'm not well today\n",
      "i\n"
     ]
    }
   ],
   "source": [
    "sen1=a_sentence.split('.')\n",
    "sen1\n",
    "print(sen1[0])\n",
    "print(sen1[0][5])\n"
   ]
  },
  {
   "cell_type": "code",
   "execution_count": 38,
   "id": "9dfd068b",
   "metadata": {},
   "outputs": [
    {
     "name": "stdout",
     "output_type": "stream",
     "text": [
      "Hi Saif\n"
     ]
    }
   ],
   "source": [
    "sen2=a_sentence.split(',')\n",
    "sen2\n",
    "print(sen2[0])"
   ]
  },
  {
   "cell_type": "code",
   "execution_count": 48,
   "id": "488ff7c0",
   "metadata": {},
   "outputs": [
    {
     "name": "stdout",
     "output_type": "stream",
     "text": [
      "HiSaif,thisistoinformyouthatI'mnotwelltoday.Thanks\n"
     ]
    }
   ],
   "source": [
    "sen3=\"\".join(wordsInSentence)\n",
    "print(sen3)"
   ]
  },
  {
   "cell_type": "code",
   "execution_count": 49,
   "id": "be9842e9",
   "metadata": {},
   "outputs": [
    {
     "name": "stdout",
     "output_type": "stream",
     "text": [
      "Hi Saif, this is to inform you that I'm not well today.Thanks\n"
     ]
    }
   ],
   "source": [
    "sen3=\" \".join(wordsInSentence)\n",
    "print(sen3)"
   ]
  },
  {
   "cell_type": "code",
   "execution_count": 50,
   "id": "0aff200b",
   "metadata": {},
   "outputs": [
    {
     "name": "stdout",
     "output_type": "stream",
     "text": [
      "Hi-Saif,-this-is-to-inform-you-that-I'm-not-well-today.Thanks\n"
     ]
    }
   ],
   "source": [
    "sen3=\"-\".join(wordsInSentence)\n",
    "print(sen3)"
   ]
  },
  {
   "cell_type": "code",
   "execution_count": 51,
   "id": "d91fe65b",
   "metadata": {},
   "outputs": [
    {
     "name": "stdout",
     "output_type": "stream",
     "text": [
      "['Hi', 'Hi', 'Hi', 'Hi', 'Hi']\n"
     ]
    }
   ],
   "source": [
    "myList=[\"Hi\"]\n",
    "print(myList*5)"
   ]
  },
  {
   "cell_type": "code",
   "execution_count": 52,
   "id": "02247d5a",
   "metadata": {},
   "outputs": [
    {
     "name": "stdout",
     "output_type": "stream",
     "text": [
      "['Hi', 'Hi']\n"
     ]
    }
   ],
   "source": [
    "print(myList+myList)"
   ]
  },
  {
   "cell_type": "code",
   "execution_count": 56,
   "id": "78da5d0f",
   "metadata": {},
   "outputs": [
    {
     "name": "stdout",
     "output_type": "stream",
     "text": [
      "6\n"
     ]
    }
   ],
   "source": [
    "nums=[1,3,2,4,5,6]\n",
    "print(len(nums))"
   ]
  },
  {
   "cell_type": "code",
   "execution_count": 59,
   "id": "8732be99",
   "metadata": {},
   "outputs": [
    {
     "name": "stdout",
     "output_type": "stream",
     "text": [
      "6\n",
      "1\n",
      "[1, 2, 3, 4, 5, 6]\n"
     ]
    }
   ],
   "source": [
    "print(max(nums))\n",
    "print(min(nums))\n",
    "print(sorted(nums))"
   ]
  },
  {
   "cell_type": "code",
   "execution_count": 60,
   "id": "b030b19a",
   "metadata": {},
   "outputs": [
    {
     "name": "stdout",
     "output_type": "stream",
     "text": [
      "[5, 6, 7]\n"
     ]
    }
   ],
   "source": [
    "nest = [[1, 2, 3, 4], [ 5, 6, 7], [8, 9, 10]]\n",
    "\n",
    "print(nest[1])"
   ]
  },
  {
   "cell_type": "code",
   "execution_count": 61,
   "id": "382d24d5",
   "metadata": {},
   "outputs": [
    {
     "name": "stdout",
     "output_type": "stream",
     "text": [
      "4\n"
     ]
    }
   ],
   "source": [
    "print(nest[0][3])"
   ]
  },
  {
   "cell_type": "code",
   "execution_count": 63,
   "id": "7eda3891",
   "metadata": {},
   "outputs": [
    {
     "name": "stdout",
     "output_type": "stream",
     "text": [
      "[[1, 2, 3, 4], [5, 6, 7]]\n"
     ]
    }
   ],
   "source": [
    "print(nest[:2])"
   ]
  },
  {
   "cell_type": "code",
   "execution_count": 64,
   "id": "bec0809d",
   "metadata": {},
   "outputs": [
    {
     "name": "stdout",
     "output_type": "stream",
     "text": [
      "{}\n"
     ]
    }
   ],
   "source": [
    "emptyDic={}\n",
    "print(emptyDic)"
   ]
  },
  {
   "cell_type": "code",
   "execution_count": 66,
   "id": "3be30e8f",
   "metadata": {},
   "outputs": [
    {
     "name": "stdout",
     "output_type": "stream",
     "text": [
      "{'a': 10, 'b': 30}\n"
     ]
    }
   ],
   "source": [
    "Dic={\"a\":10 , \"b\":30}\n",
    "print(Dic)"
   ]
  },
  {
   "cell_type": "code",
   "execution_count": 68,
   "id": "5c7e436f",
   "metadata": {},
   "outputs": [
    {
     "name": "stdout",
     "output_type": "stream",
     "text": [
      "10\n"
     ]
    }
   ],
   "source": [
    "age1=Dic['a']\n",
    "print(age1)"
   ]
  },
  {
   "cell_type": "code",
   "execution_count": 69,
   "id": "fb674747",
   "metadata": {},
   "outputs": [
    {
     "name": "stdout",
     "output_type": "stream",
     "text": [
      "10\n"
     ]
    }
   ],
   "source": [
    "age1=Dic.get('a')\n",
    "print(age1)"
   ]
  },
  {
   "cell_type": "code",
   "execution_count": 72,
   "id": "70f7b40d",
   "metadata": {},
   "outputs": [
    {
     "name": "stdout",
     "output_type": "stream",
     "text": [
      "N/A\n"
     ]
    }
   ],
   "source": [
    "age1=Dic.get('xx','N/A')\n",
    "print(age1)"
   ]
  },
  {
   "cell_type": "code",
   "execution_count": 73,
   "id": "ddc7cc5d",
   "metadata": {},
   "outputs": [
    {
     "name": "stdout",
     "output_type": "stream",
     "text": [
      "{'a': 10, 'b': 30, 'xx': 40}\n"
     ]
    }
   ],
   "source": [
    "Dic['xx']=40\n",
    "print(Dic)"
   ]
  },
  {
   "cell_type": "code",
   "execution_count": 74,
   "id": "0d895b12",
   "metadata": {},
   "outputs": [
    {
     "name": "stdout",
     "output_type": "stream",
     "text": [
      "True\n"
     ]
    }
   ],
   "source": [
    "print('xx' in Dic)"
   ]
  },
  {
   "cell_type": "code",
   "execution_count": 75,
   "id": "35f313e9",
   "metadata": {},
   "outputs": [
    {
     "name": "stdout",
     "output_type": "stream",
     "text": [
      "False\n"
     ]
    }
   ],
   "source": [
    "print('yy' in Dic)"
   ]
  },
  {
   "cell_type": "code",
   "execution_count": 76,
   "id": "fa648057",
   "metadata": {},
   "outputs": [
    {
     "name": "stdout",
     "output_type": "stream",
     "text": [
      "<class 'dict'>\n"
     ]
    }
   ],
   "source": [
    "print(type(Dic))"
   ]
  },
  {
   "cell_type": "code",
   "execution_count": 77,
   "id": "3a2b395e",
   "metadata": {},
   "outputs": [
    {
     "name": "stdout",
     "output_type": "stream",
     "text": [
      "['a', 'b', 'xx']\n"
     ]
    }
   ],
   "source": [
    "print(list(Dic.keys()))"
   ]
  },
  {
   "cell_type": "code",
   "execution_count": 78,
   "id": "fc5c79ed",
   "metadata": {},
   "outputs": [
    {
     "name": "stdout",
     "output_type": "stream",
     "text": [
      "[10, 30, 40]\n"
     ]
    }
   ],
   "source": [
    "print(list(Dic.values()))"
   ]
  },
  {
   "cell_type": "code",
   "execution_count": 79,
   "id": "882f82de",
   "metadata": {},
   "outputs": [
    {
     "name": "stdout",
     "output_type": "stream",
     "text": [
      "['a', 'b', 'xx']\n",
      "<class 'list'>\n"
     ]
    }
   ],
   "source": [
    "l1=list(Dic.keys())\n",
    "print(l1)\n",
    "print(type(l1))"
   ]
  },
  {
   "cell_type": "code",
   "execution_count": 84,
   "id": "050289ed",
   "metadata": {},
   "outputs": [
    {
     "name": "stdout",
     "output_type": "stream",
     "text": [
      "{'a': 10, 'b': 20, 'names': ['aaa', 'bbb']}\n",
      "['aaa', 'bbb']\n"
     ]
    }
   ],
   "source": [
    "nestedDic={'a':10 , 'b':20,  'names': ['aaa' , 'bbb']}\n",
    "print(nestedDic)\n",
    "print(nestedDic.get('names'))"
   ]
  },
  {
   "cell_type": "code",
   "execution_count": 85,
   "id": "1eb4649f",
   "metadata": {},
   "outputs": [
    {
     "name": "stdout",
     "output_type": "stream",
     "text": [
      "{1: ['Shivam Bansal', 24], 2: ['Udit Bansal', 25], 3: ['Sonam Gupta', 26], 4: ['Saif Ansari', 24], 5: ['Huzefa Calcuttawala', 27]}\n"
     ]
    }
   ],
   "source": [
    "students_data = { 1:['Shivam Bansal', 24] , 2:['Udit Bansal',25], 3:['Sonam Gupta', 26], 4:['Saif Ansari',24], 5:['Huzefa Calcuttawala',27]}\n",
    "\n",
    "print(students_data)"
   ]
  },
  {
   "cell_type": "code",
   "execution_count": 86,
   "id": "67d115b3",
   "metadata": {},
   "outputs": [
    {
     "name": "stdout",
     "output_type": "stream",
     "text": [
      "5\n"
     ]
    }
   ],
   "source": [
    "print(len(students_data))"
   ]
  },
  {
   "cell_type": "code",
   "execution_count": 87,
   "id": "d597ca17",
   "metadata": {},
   "outputs": [
    {
     "name": "stdout",
     "output_type": "stream",
     "text": [
      "dict_values([['Shivam Bansal', 24], ['Udit Bansal', 25], ['Sonam Gupta', 26], ['Saif Ansari', 24], ['Huzefa Calcuttawala', 27]])\n"
     ]
    }
   ],
   "source": [
    "print(students_data.values())"
   ]
  },
  {
   "cell_type": "code",
   "execution_count": 89,
   "id": "0a1e1b33",
   "metadata": {},
   "outputs": [
    {
     "name": "stdout",
     "output_type": "stream",
     "text": [
      "6\n"
     ]
    }
   ],
   "source": [
    "students_data[6]=['aaa', 24]\n",
    "print(len(students_data))"
   ]
  },
  {
   "cell_type": "code",
   "execution_count": 90,
   "id": "145f9f82",
   "metadata": {},
   "outputs": [
    {
     "name": "stdout",
     "output_type": "stream",
     "text": [
      "<class 'dict'>\n"
     ]
    }
   ],
   "source": [
    "\n",
    "d = {}\n",
    "print(type(d))"
   ]
  },
  {
   "cell_type": "code",
   "execution_count": 91,
   "id": "cebb9cc5",
   "metadata": {},
   "outputs": [
    {
     "name": "stdout",
     "output_type": "stream",
     "text": [
      "<class 'dict'>\n"
     ]
    }
   ],
   "source": [
    "\n",
    "d = {'a':1, 'b':2}\n",
    "print(type(d))"
   ]
  },
  {
   "cell_type": "code",
   "execution_count": 94,
   "id": "c0053cc8",
   "metadata": {},
   "outputs": [
    {
     "name": "stdout",
     "output_type": "stream",
     "text": [
      "<class 'dict'>\n"
     ]
    }
   ],
   "source": [
    "d = dict(a=1, b=2)\n",
    "print(type(d))\n"
   ]
  },
  {
   "cell_type": "code",
   "execution_count": 99,
   "id": "80e44914",
   "metadata": {},
   "outputs": [
    {
     "name": "stdout",
     "output_type": "stream",
     "text": [
      "{'Python': 40, 'R': 45}\n",
      "{'Python': 40}\n"
     ]
    }
   ],
   "source": [
    "dict_1 = {\"Python\":40, \"R\":45}\n",
    "print(dict_1)\n",
    "del dict_1[\"R\"]\n",
    "print(dict_1)"
   ]
  },
  {
   "cell_type": "code",
   "execution_count": 101,
   "id": "d399cd6e",
   "metadata": {},
   "outputs": [
    {
     "name": "stdout",
     "output_type": "stream",
     "text": [
      "['Python', 'R']\n"
     ]
    }
   ],
   "source": [
    "d = {'Python':40, 'R':45}\n",
    "print(list(d.keys()))"
   ]
  },
  {
   "cell_type": "code",
   "execution_count": 102,
   "id": "409f8069",
   "metadata": {},
   "outputs": [
    {
     "name": "stdout",
     "output_type": "stream",
     "text": [
      "{'B', 'C', 'A', 'N', 'E'}\n"
     ]
    }
   ],
   "source": [
    "students_list = ['A','A','B','C','C','E','N']\n",
    "students_set = set(students_list)\n",
    "print(students_set)"
   ]
  },
  {
   "cell_type": "code",
   "execution_count": 103,
   "id": "6815f301",
   "metadata": {},
   "outputs": [
    {
     "name": "stdout",
     "output_type": "stream",
     "text": [
      "<class 'set'>\n"
     ]
    }
   ],
   "source": [
    "print(type(students_set))"
   ]
  },
  {
   "cell_type": "code",
   "execution_count": 104,
   "id": "83c60e4e",
   "metadata": {},
   "outputs": [
    {
     "name": "stdout",
     "output_type": "stream",
     "text": [
      "{1, 2, 3, 4, 5}\n"
     ]
    }
   ],
   "source": [
    "student_list2=[1,2,3,4,5,2,1,3,4,5]\n",
    "stuSet2=set(student_list2)\n",
    "print(stuSet2)"
   ]
  },
  {
   "cell_type": "code",
   "execution_count": 2,
   "id": "0be282a7",
   "metadata": {},
   "outputs": [
    {
     "ename": "NameError",
     "evalue": "name 'student_list2' is not defined",
     "output_type": "error",
     "traceback": [
      "\u001b[1;31m---------------------------------------------------------------------------\u001b[0m",
      "\u001b[1;31mNameError\u001b[0m                                 Traceback (most recent call last)",
      "\u001b[1;32m~\\AppData\\Local\\Temp/ipykernel_23476/1919065561.py\u001b[0m in \u001b[0;36m<module>\u001b[1;34m\u001b[0m\n\u001b[1;32m----> 1\u001b[1;33m \u001b[0mprint\u001b[0m\u001b[1;33m(\u001b[0m\u001b[0mstudent_list2\u001b[0m\u001b[1;33m.\u001b[0m\u001b[0mintersection\u001b[0m\u001b[1;33m(\u001b[0m\u001b[1;33m)\u001b[0m\u001b[1;33m)\u001b[0m\u001b[1;33m\u001b[0m\u001b[1;33m\u001b[0m\u001b[0m\n\u001b[0m",
      "\u001b[1;31mNameError\u001b[0m: name 'student_list2' is not defined"
     ]
    }
   ],
   "source": [
    "print(student_list2.intersection())\n"
   ]
  },
  {
   "cell_type": "code",
   "execution_count": 4,
   "id": "edaf3391",
   "metadata": {},
   "outputs": [
    {
     "name": "stdout",
     "output_type": "stream",
     "text": [
      "1\n",
      "2\n",
      "3\n",
      "4\n",
      "5\n"
     ]
    }
   ],
   "source": [
    "for i in range(1,6):\n",
    "    print(i)"
   ]
  },
  {
   "cell_type": "code",
   "execution_count": 5,
   "id": "7ae763df",
   "metadata": {},
   "outputs": [
    {
     "name": "stdout",
     "output_type": "stream",
     "text": [
      "1\n",
      "3\n",
      "5\n",
      "7\n",
      "9\n"
     ]
    }
   ],
   "source": [
    "#i=1 , i<10 , increment 2\n",
    "for i in range(1,10,2):\n",
    "    print(i) "
   ]
  },
  {
   "cell_type": "code",
   "execution_count": 6,
   "id": "07459949",
   "metadata": {},
   "outputs": [
    {
     "name": "stdout",
     "output_type": "stream",
     "text": [
      "M\n",
      "a\n",
      "r\n",
      "y\n",
      " \n",
      "h\n",
      "a\n",
      "d\n",
      " \n",
      "a\n",
      " \n",
      "l\n",
      "i\n",
      "t\n",
      "t\n",
      "l\n",
      "e\n",
      " \n",
      "l\n",
      "a\n",
      "m\n",
      "b\n"
     ]
    }
   ],
   "source": [
    "#Looping on a string\n",
    "\n",
    "my_string = \"Mary had a little lamb\"\n",
    "\n",
    "for alphabet in my_string:\n",
    "    print(alphabet)"
   ]
  },
  {
   "cell_type": "code",
   "execution_count": 9,
   "id": "2561b292",
   "metadata": {},
   "outputs": [
    {
     "name": "stdout",
     "output_type": "stream",
     "text": [
      "* \n",
      "* * \n",
      "* * * \n",
      "* * * * \n",
      "* * * * * \n",
      "* * * * \n",
      "* * * \n",
      "* * \n",
      "* \n"
     ]
    }
   ],
   "source": [
    "str1=''\n",
    "for i in range(0,9):\n",
    "    if i<5:\n",
    "        str1 += '* '\n",
    "        print(str1)\n",
    "    elif i>4:\n",
    "        str1 = str1[:-2]\n",
    "        print(str1)\n"
   ]
  },
  {
   "cell_type": "code",
   "execution_count": 13,
   "id": "e32d882c",
   "metadata": {},
   "outputs": [
    {
     "name": "stdout",
     "output_type": "stream",
     "text": [
      "M 0\n",
      "a 1\n",
      "r 2\n",
      "y 3\n",
      "  4\n",
      "h 5\n",
      "a 6\n",
      "d 7\n",
      "  8\n",
      "a 9\n",
      "  10\n",
      "l 11\n",
      "i 12\n",
      "t 13\n",
      "t 14\n",
      "l 15\n",
      "e 16\n",
      "  17\n",
      "l 18\n",
      "a 19\n",
      "m 20\n",
      "b 21\n"
     ]
    }
   ],
   "source": [
    "my_string = \"Mary had a little lamb\"\n",
    "\n",
    "for n,alphabet in enumerate(my_string):\n",
    "    print(alphabet, n )\n"
   ]
  },
  {
   "cell_type": "code",
   "execution_count": 14,
   "id": "74008ed7",
   "metadata": {},
   "outputs": [
    {
     "name": "stdout",
     "output_type": "stream",
     "text": [
      " a a a i e a\n"
     ]
    }
   ],
   "source": [
    "vowels =''\n",
    "for alphabet in my_string:\n",
    "    if alphabet in 'aeiou':\n",
    "        vowels += ' ' + alphabet\n",
    "print(vowels)"
   ]
  },
  {
   "cell_type": "code",
   "execution_count": 18,
   "id": "d8089e41",
   "metadata": {},
   "outputs": [
    {
     "name": "stdout",
     "output_type": "stream",
     "text": [
      "All Evens are : 8884828028822 & All odds are : 33793731\n"
     ]
    }
   ],
   "source": [
    "nums = '838848237890237388221'\n",
    "all_even=''\n",
    "all_odd = ''\n",
    "for number in nums:\n",
    "   # print(number)\n",
    "    if int(number)%2 == 0:\n",
    "        all_even += number\n",
    "    else:\n",
    "        all_odd += number\n",
    "\n",
    "print('All Evens are : '+ all_even + ' & All odds are : '+ all_odd)"
   ]
  },
  {
   "cell_type": "code",
   "execution_count": 19,
   "id": "8a9b195b",
   "metadata": {},
   "outputs": [],
   "source": [
    "list_of_inventories = ['Apple', 'Banana', 'Potato', 'Mango', 'Onion', 'Toothpaste']\n",
    "fruits = ['Apple','Banana','Mango','Orange','Strawberry']\n",
    "vegetables = ['Potato', 'Onion','Cucumber', 'Celery']"
   ]
  },
  {
   "cell_type": "code",
   "execution_count": 33,
   "id": "ede822e1",
   "metadata": {},
   "outputs": [
    {
     "name": "stdout",
     "output_type": "stream",
     "text": [
      "no of fruits :  3\n",
      "no of vegs :  2\n"
     ]
    }
   ],
   "source": [
    "#count of fruits in inventory list\n",
    "noOfFruits=0\n",
    "noOfVegs=0\n",
    "for inv in list_of_inventories : \n",
    "        if inv in fruits :\n",
    "            noOfFruits+= 1\n",
    "        \n",
    "        if inv in vegetables:\n",
    "             noOfVegs+=1\n",
    "        \n",
    "        \n",
    "print (\"no of fruits : \" , noOfFruits)   \n",
    "print (\"no of vegs : \" , noOfVegs)"
   ]
  },
  {
   "cell_type": "code",
   "execution_count": 34,
   "id": "055f4eb9",
   "metadata": {},
   "outputs": [
    {
     "name": "stdout",
     "output_type": "stream",
     "text": [
      "Is\n",
      "Python\n",
      "simpler\n",
      "than\n",
      "R\n",
      "?\n"
     ]
    }
   ],
   "source": [
    "sentence = \"Is Python simpler than R ?\"\n",
    "for word in sentence.split():\n",
    "    print(word)"
   ]
  },
  {
   "cell_type": "code",
   "execution_count": 36,
   "id": "d3e180d3",
   "metadata": {},
   "outputs": [
    {
     "name": "stdout",
     "output_type": "stream",
     "text": [
      "beautiful\n",
      "morning\n"
     ]
    }
   ],
   "source": [
    "#sentence check\n",
    "tweet = '#beautiful #morning it is looking good'\n",
    "\n",
    "for word in tweet.split():\n",
    "    if word.startswith('#'):\n",
    "        print(word[1:])"
   ]
  },
  {
   "cell_type": "code",
   "execution_count": 37,
   "id": "050596f0",
   "metadata": {},
   "outputs": [],
   "source": [
    "students_data = {1:['Shivam Bansal', 24] , 2:['Udit Bansal',25], 3:['Sonam Gupta', 26], 4:['Saif Ansari',24], 5:['Huzefa Calcuttawala',27]}\n"
   ]
  },
  {
   "cell_type": "code",
   "execution_count": 38,
   "id": "03b1dfc1",
   "metadata": {},
   "outputs": [
    {
     "name": "stdout",
     "output_type": "stream",
     "text": [
      "1 ['Shivam Bansal', 24]\n",
      "2 ['Udit Bansal', 25]\n",
      "3 ['Sonam Gupta', 26]\n",
      "4 ['Saif Ansari', 24]\n",
      "5 ['Huzefa Calcuttawala', 27]\n"
     ]
    }
   ],
   "source": [
    "for key, val in students_data.items():\n",
    "    print(key, val)"
   ]
  },
  {
   "cell_type": "code",
   "execution_count": 39,
   "id": "139dbe78",
   "metadata": {},
   "outputs": [
    {
     "name": "stdout",
     "output_type": "stream",
     "text": [
      "1\n",
      "2\n",
      "3\n",
      "4\n",
      "5\n"
     ]
    }
   ],
   "source": [
    "for key in students_data.keys():\n",
    "    print(key)"
   ]
  },
  {
   "cell_type": "code",
   "execution_count": 40,
   "id": "985b43e3",
   "metadata": {},
   "outputs": [
    {
     "name": "stdout",
     "output_type": "stream",
     "text": [
      "['Shivam Bansal', 24]\n",
      "['Udit Bansal', 25]\n",
      "['Sonam Gupta', 26]\n",
      "['Saif Ansari', 24]\n",
      "['Huzefa Calcuttawala', 27]\n"
     ]
    }
   ],
   "source": [
    "for val in students_data.values():\n",
    "    print(val)"
   ]
  },
  {
   "cell_type": "code",
   "execution_count": 41,
   "id": "16b75a67",
   "metadata": {},
   "outputs": [
    {
     "name": "stdout",
     "output_type": "stream",
     "text": [
      "2\n"
     ]
    }
   ],
   "source": [
    "count = 0\n",
    "for key, val in students_data.items():\n",
    "    if val[1]<25:\n",
    "        count+=1\n",
    "\n",
    "print(count)"
   ]
  },
  {
   "cell_type": "code",
   "execution_count": 42,
   "id": "ed07077d",
   "metadata": {},
   "outputs": [
    {
     "name": "stdout",
     "output_type": "stream",
     "text": [
      "21\n",
      "22\n",
      "23\n",
      "24\n",
      "25\n",
      "26\n",
      "27\n",
      "28\n",
      "29\n",
      "30\n",
      "31\n",
      "32\n",
      "33\n",
      "34\n",
      "35\n",
      "36\n",
      "37\n",
      "38\n",
      "39\n",
      "40\n",
      "41\n",
      "42\n",
      "43\n",
      "44\n",
      "45\n",
      "46\n",
      "47\n",
      "48\n",
      "49\n",
      "50\n",
      "51\n",
      "1085\n"
     ]
    }
   ],
   "source": [
    "#while loop\n",
    "start =20\n",
    "total= 0\n",
    "while start<51:\n",
    "    total+=start\n",
    "    start+=1\n",
    "    print(start)\n",
    "\n",
    "print(total)\n"
   ]
  },
  {
   "cell_type": "code",
   "execution_count": 47,
   "id": "87e1fe3e",
   "metadata": {},
   "outputs": [
    {
     "name": "stdout",
     "output_type": "stream",
     "text": [
      "0\n",
      "1\n",
      "2\n"
     ]
    }
   ],
   "source": [
    "d = {0: 'Fish', 1: 'Bird', 2: 'Mammal'}\n",
    "for i in d:\n",
    "    print(i)"
   ]
  },
  {
   "cell_type": "code",
   "execution_count": 52,
   "id": "09b923dc",
   "metadata": {},
   "outputs": [
    {
     "name": "stdout",
     "output_type": "stream",
     "text": [
      "<class 'set'>\n",
      "None\n",
      "None\n",
      "None\n"
     ]
    }
   ],
   "source": [
    "d = {0, 1, 2}\n",
    "print(type(d))\n",
    "for x in d:\n",
    "    print(d.add(x))"
   ]
  },
  {
   "cell_type": "code",
   "execution_count": 53,
   "id": "06307c7a",
   "metadata": {},
   "outputs": [
    {
     "name": "stdout",
     "output_type": "stream",
     "text": [
      "1 is not divisible by 3\n",
      "2 is not divisible by 3\n",
      "3 is Divisible by 3\n"
     ]
    }
   ],
   "source": [
    "#'break' will stop the loop \n",
    "for i in range(1,6):\n",
    "    if (i % 3 == 0):\n",
    "        print(str(i) + \" is Divisible by 3\")\n",
    "        break\n",
    "\n",
    "    print(str(i) + \" is not divisible by 3\")"
   ]
  },
  {
   "cell_type": "code",
   "execution_count": 54,
   "id": "fdd7e974",
   "metadata": {},
   "outputs": [
    {
     "name": "stdout",
     "output_type": "stream",
     "text": [
      "1 is not divisible by 3\n",
      "2 is not divisible by 3\n",
      "3 is Divisible by 3\n",
      "4 is not divisible by 3\n",
      "5 is not divisible by 3\n"
     ]
    }
   ],
   "source": [
    "#continue will skip the iteration\n",
    "for i in range(1,6):\n",
    "    if (i % 3 == 0):\n",
    "        print(str(i) + \" is Divisible by 3\")\n",
    "        continue\n",
    "\n",
    "    print(str(i) + \" is not divisible by 3\")"
   ]
  },
  {
   "cell_type": "code",
   "execution_count": 55,
   "id": "92891bc9",
   "metadata": {},
   "outputs": [
    {
     "name": "stdout",
     "output_type": "stream",
     "text": [
      "1 is not divisible by 3\n",
      "2 is not divisible by 3\n",
      "3 is Divisible by 3\n",
      "3 is not divisible by 3\n",
      "4 is not divisible by 3\n",
      "5 is not divisible by 3\n"
     ]
    }
   ],
   "source": [
    "#pass will execute all lines in the iteration\n",
    "#'pass' will simply pass the control to the next line\n",
    "for i in range(1,6):\n",
    "    if (i % 3 == 0):\n",
    "        print(str(i) + \" is Divisible by 3\")\n",
    "        pass\n",
    "\n",
    "    print(str(i) + \" is not divisible by 3\")"
   ]
  },
  {
   "cell_type": "code",
   "execution_count": 56,
   "id": "196d3a4c",
   "metadata": {},
   "outputs": [
    {
     "name": "stdout",
     "output_type": "stream",
     "text": [
      "[1, 4, 9, 16, 25, 36, 49, 64, 81]\n"
     ]
    }
   ],
   "source": [
    "squares_list= []\n",
    "\n",
    "for x in range(1,10):\n",
    "    squares_list.append(x**2)\n",
    "print(squares_list)"
   ]
  },
  {
   "cell_type": "code",
   "execution_count": 57,
   "id": "d8213f04",
   "metadata": {},
   "outputs": [
    {
     "name": "stdout",
     "output_type": "stream",
     "text": [
      "[1, 4, 9, 16, 25, 36, 49, 64, 81]\n"
     ]
    }
   ],
   "source": [
    "squares_list = [x**2 for x in range(1,10)]\n",
    "print(squares_list)"
   ]
  },
  {
   "cell_type": "code",
   "execution_count": 147,
   "id": "9a0ed7e0",
   "metadata": {},
   "outputs": [
    {
     "name": "stdout",
     "output_type": "stream",
     "text": [
      "['There', 'was', 'a', 'fox.', 'It', 'was', 'brown', 'in', 'color.', 'It', 'was', 'seen', 'near', 'that', 'farm', 'sometime', 'back']\n"
     ]
    }
   ],
   "source": [
    "paragraph = [\"There was a fox.\" , 'It was brown in color.', \"It was seen near that farm sometime back\"]\n",
    "\n",
    "single_word_list =[]\n",
    "\n",
    "for sentence in paragraph:\n",
    "    for word in sentence.split():\n",
    "        single_word_list.append(word)\n",
    "\n",
    "print(single_word_list)"
   ]
  },
  {
   "cell_type": "code",
   "execution_count": 156,
   "id": "9dc742ec",
   "metadata": {},
   "outputs": [
    {
     "name": "stdout",
     "output_type": "stream",
     "text": [
      "['There', 'was', 'a', 'fox', 'It', 'was', 'brown', 'in', 'color', 'It', 'was', 'seen', 'near', 'that', 'farm', 'sometime', 'back']\n"
     ]
    }
   ],
   "source": [
    "paragraph1 = \"There was a fox.It was brown in color.It was seen near that farm sometime back\"\n",
    "single_word_list2 =[]\n",
    "\n",
    "for sen in paragraph1.split('.') : \n",
    "    #print(sen)\n",
    "    for wor in sen.split() : \n",
    "         #print(wor)\n",
    "         single_word_list2.append(wor)\n",
    "        \n",
    "print(single_word_list2)\n"
   ]
  },
  {
   "cell_type": "code",
   "execution_count": 161,
   "id": "8e5849fa",
   "metadata": {},
   "outputs": [
    {
     "name": "stdout",
     "output_type": "stream",
     "text": [
      "['There', 'was', 'a', 'fox', 'It', 'was', 'brown', 'in', 'color', 'It', 'was', 'seen', 'near', 'that', 'farm', 'sometime', 'back']\n"
     ]
    }
   ],
   "source": [
    "paragraph1 = \"There was a fox.It was brown in color.It was seen near that farm sometime back\"\n",
    "single_word_list3 =[]\n",
    "\n",
    "single_word_list3 = [wor3 for sen3 in paragraph1.split('.') for wor3 in sen3.split() ]\n",
    "print(single_word_list3)"
   ]
  },
  {
   "cell_type": "code",
   "execution_count": 172,
   "id": "82832b8c",
   "metadata": {},
   "outputs": [
    {
     "name": "stdout",
     "output_type": "stream",
     "text": [
      "There was a fox.It was brown in color.It was seen near that farm sometime back\n",
      "['a', 'It', 'in', 'It']\n"
     ]
    }
   ],
   "source": [
    "#words with vowels\n",
    "vowels = ['a','e','i','o','u']\n",
    "vowels_from_sentence =[]\n",
    "print(paragraph1)\n",
    "for sen in paragraph1.split('.'):\n",
    "    for word in sen.split():\n",
    "        if(word[0].lower() in vowels):\n",
    "            vowels_from_sentence.append(word)\n",
    "                \n",
    "\n",
    "print(vowels_from_sentence)\n",
    "        "
   ]
  },
  {
   "cell_type": "code",
   "execution_count": 175,
   "id": "0e82f275",
   "metadata": {},
   "outputs": [
    {
     "name": "stdout",
     "output_type": "stream",
     "text": [
      "['a', 'It', 'in', 'It']\n"
     ]
    }
   ],
   "source": [
    "#list comp with if statement\n",
    "vowels = ['a','e','i','o','u']\n",
    "vowels_from_sentence2 =[]\n",
    "vowels_from_sentence2.append (word for sentence2 in paragraph1 for word in sentence.split() if word[0].lower() in vowels)\n",
    "\n",
    "print(vowels_from_sentence)"
   ]
  },
  {
   "cell_type": "code",
   "execution_count": 176,
   "id": "e61a04f6",
   "metadata": {},
   "outputs": [
    {
     "name": "stdout",
     "output_type": "stream",
     "text": [
      "{0: 0, 1: 1, 2: 4, 3: 9, 4: 16, 5: 25, 6: 36, 7: 49, 8: 64, 9: 81, 10: 100, 11: 121, 12: 144, 13: 169, 14: 196, 15: 225, 16: 256, 17: 289, 18: 324, 19: 361, 20: 400, 21: 441, 22: 484, 23: 529, 24: 576}\n"
     ]
    }
   ],
   "source": [
    "squared_dictionary = {num : num**2 for num in range(0, 25)}\n",
    "print(squared_dictionary)"
   ]
  },
  {
   "cell_type": "code",
   "execution_count": 179,
   "id": "dd7757bf",
   "metadata": {},
   "outputs": [
    {
     "name": "stdout",
     "output_type": "stream",
     "text": [
      "{2: 'Udit Bansal', 4: 'Saif Ansari'}\n"
     ]
    }
   ],
   "source": [
    "students_data = {1:['Shivam Bansal', 24] , 2:['Udit Bansal',25], 3:['Sonam Gupta', 26], 4:['Saif Ansari',24], 5:['Huzefa Calcuttawala',27]}\n",
    "\n",
    "names_dict ={}\n",
    "\n",
    "#iterate over each key, val pair\n",
    "for roll_num,details in students_data.items():\n",
    "    if roll_num%2==0:\n",
    "        names_dict[roll_num]= details[0]\n",
    "print(names_dict)\n"
   ]
  },
  {
   "cell_type": "code",
   "execution_count": 185,
   "id": "5b4ae8c4",
   "metadata": {},
   "outputs": [
    {
     "name": "stdout",
     "output_type": "stream",
     "text": [
      "{2: 'Udit Bansal', 4: 'Saif Ansari'}\n"
     ]
    }
   ],
   "source": [
    "names_dict2 = {roll_num : details[0] for roll_num,details in students_data.items() if roll_num%2==0  }\n",
    "print(names_dict2)"
   ]
  },
  {
   "cell_type": "code",
   "execution_count": 197,
   "id": "8075caea",
   "metadata": {},
   "outputs": [
    {
     "name": "stdout",
     "output_type": "stream",
     "text": [
      "[1, 2, 3, 4]\n"
     ]
    }
   ],
   "source": [
    "n=4\n",
    "myLi = []\n",
    "#for num in range(1,5) :\n",
    " #   myLi.append(num**2)\n",
    "    \n",
    "myLi =[num for num in range(1,5)]\n",
    "print(myLi)"
   ]
  },
  {
   "cell_type": "code",
   "execution_count": 202,
   "id": "ee366b7d",
   "metadata": {},
   "outputs": [
    {
     "name": "stdout",
     "output_type": "stream",
     "text": [
      "['old', 'apple', 'item', 'euphoria']\n"
     ]
    }
   ],
   "source": [
    "input_list=['wood', 'old', 'apple', 'big', 'item', 'euphoria'] \n",
    "vowel_L=['a','e','i','o','u']\n",
    "list_vowel=[]\n",
    "for word in input_list:\n",
    "    if (word[0].lower() in vowel_L):\n",
    "        list_vowel.append(word)\n",
    "\n",
    "\n",
    "print(list_vowel)"
   ]
  },
  {
   "cell_type": "code",
   "execution_count": 206,
   "id": "9919f89b",
   "metadata": {},
   "outputs": [
    {
     "name": "stdout",
     "output_type": "stream",
     "text": [
      "['old', 'apple', 'item', 'euphoria']\n"
     ]
    }
   ],
   "source": [
    "input_list=['wood', 'old', 'apple', 'big', 'item', 'euphoria'] \n",
    "vowel_L=['a','e','i','o','u']\n",
    "list_vowel=[word for word in input_list if (word[0].lower() in vowel_L) ]\n",
    "print(list_vowel)"
   ]
  },
  {
   "cell_type": "code",
   "execution_count": 210,
   "id": "e819d8b4",
   "metadata": {},
   "outputs": [
    {
     "name": "stdout",
     "output_type": "stream",
     "text": [
      "{1: 1, 2: 4, 3: 9, 4: 16, 5: 25, 6: 36}\n"
     ]
    }
   ],
   "source": [
    "n=6\n",
    "dictionary={}\n",
    "for i in range (1,n+1):\n",
    "    dictionary[i]=i**2\n",
    "    \n",
    "print(dictionary)"
   ]
  },
  {
   "cell_type": "code",
   "execution_count": 216,
   "id": "576589a6",
   "metadata": {},
   "outputs": [
    {
     "name": "stdout",
     "output_type": "stream",
     "text": [
      "{1: 1, 2: 4, 3: 9, 4: 16, 5: 25, 6: 36}\n"
     ]
    }
   ],
   "source": [
    "dictionary= {i: i**2 for i in range (1,n+1)}\n",
    "print(dictionary)"
   ]
  },
  {
   "cell_type": "code",
   "execution_count": 218,
   "id": "e6afcf80",
   "metadata": {},
   "outputs": [
    {
     "name": "stdout",
     "output_type": "stream",
     "text": [
      "Hello World\n"
     ]
    }
   ],
   "source": [
    "def scream():\n",
    "    print('Hello World')\n",
    "scream()"
   ]
  },
  {
   "cell_type": "code",
   "execution_count": 220,
   "id": "83e961c4",
   "metadata": {},
   "outputs": [],
   "source": [
    "def square(num):\n",
    "    out = num**2\n",
    "    return(out)"
   ]
  },
  {
   "cell_type": "code",
   "execution_count": 221,
   "id": "d942c88a",
   "metadata": {},
   "outputs": [
    {
     "name": "stdout",
     "output_type": "stream",
     "text": [
      "9\n"
     ]
    }
   ],
   "source": [
    "sq_3 = square(3)\n",
    "print(sq_3)"
   ]
  },
  {
   "cell_type": "code",
   "execution_count": 222,
   "id": "440d9ad9",
   "metadata": {},
   "outputs": [],
   "source": [
    "def square(num):\n",
    "    out = num**2\n",
    "    print(out)\n"
   ]
  },
  {
   "cell_type": "code",
   "execution_count": 223,
   "id": "4ec9f60e",
   "metadata": {},
   "outputs": [
    {
     "name": "stdout",
     "output_type": "stream",
     "text": [
      "16\n",
      "Q isNone\n"
     ]
    }
   ],
   "source": [
    "q = square(4)\n",
    "print(\"Q is\"+str(q))"
   ]
  },
  {
   "cell_type": "code",
   "execution_count": 224,
   "id": "c3316d2f",
   "metadata": {},
   "outputs": [
    {
     "name": "stdout",
     "output_type": "stream",
     "text": [
      "120\n"
     ]
    }
   ],
   "source": [
    "def factorial(n):\n",
    "    if n>1:\n",
    "        return n*factorial(n-1)\n",
    "    else:\n",
    "        return n\n",
    "\n",
    "fact = factorial(5)\n",
    "print(fact)"
   ]
  },
  {
   "cell_type": "code",
   "execution_count": 1,
   "id": "f5724385",
   "metadata": {},
   "outputs": [],
   "source": [
    "def addition(*args):\n",
    "    print(args)\n",
    "    return(sum(args))"
   ]
  },
  {
   "cell_type": "code",
   "execution_count": 2,
   "id": "091a476b",
   "metadata": {},
   "outputs": [
    {
     "name": "stdout",
     "output_type": "stream",
     "text": [
      "(4, 5, 6, 7, 8, 9)\n",
      "39\n",
      "(1, 2)\n",
      "3\n"
     ]
    }
   ],
   "source": [
    "print(addition(4,5,6,7,8,9))\n",
    "print(addition(1,2))"
   ]
  },
  {
   "cell_type": "code",
   "execution_count": 240,
   "id": "b841f135",
   "metadata": {},
   "outputs": [
    {
     "name": "stdout",
     "output_type": "stream",
     "text": [
      "(1, 2, 3, 4)\n",
      "10\n"
     ]
    }
   ],
   "source": [
    "def sum1(args):\n",
    "    i=0\n",
    "    for j in args:\n",
    "        i+=j\n",
    "    return i\n",
    "\n",
    "#list of inputs\n",
    "\n",
    "def addition1(*args):\n",
    "    print(args)\n",
    "    return(sum1(args))\n",
    "\n",
    "print(addition1(1,2,3,4))\n",
    "\n"
   ]
  },
  {
   "cell_type": "code",
   "execution_count": 241,
   "id": "d9655727",
   "metadata": {},
   "outputs": [
    {
     "name": "stdout",
     "output_type": "stream",
     "text": [
      "2 3\n",
      "5\n"
     ]
    }
   ],
   "source": [
    "def sum2(arg1, arg2):\n",
    "    return arg1+arg2\n",
    "\n",
    "def addition2(arg1,arg2):\n",
    "    print(arg1 , arg2)\n",
    "    return(sum2(arg1 , arg2))\n",
    "\n",
    "print(addition2(2,3))"
   ]
  },
  {
   "cell_type": "code",
   "execution_count": 242,
   "id": "07d25910",
   "metadata": {},
   "outputs": [
    {
     "name": "stdout",
     "output_type": "stream",
     "text": [
      "Mahendra Singh Dhoni\n"
     ]
    }
   ],
   "source": [
    "def proper(some_text):\n",
    "    some_text = some_text.strip()\n",
    "    some_text = \" \".join([word[0].upper() + word[1:] for word in some_text.split()])\n",
    "    return some_text\n",
    "\n",
    "captain = proper(\"mahendra singh dhoni\")\n",
    "print(captain)\n"
   ]
  },
  {
   "cell_type": "code",
   "execution_count": 243,
   "id": "6c22852d",
   "metadata": {},
   "outputs": [
    {
     "name": "stdout",
     "output_type": "stream",
     "text": [
      "['Mahendra', 'Singh', 'Dhoni']\n",
      "<class 'function'>\n"
     ]
    }
   ],
   "source": [
    "#methodname = lambda input:output\n",
    "string_to_list = lambda x: x.split()\n",
    "print(string_to_list(captain))\n",
    "print(type(string_to_list))"
   ]
  },
  {
   "cell_type": "code",
   "execution_count": 244,
   "id": "7367e37e",
   "metadata": {},
   "outputs": [
    {
     "name": "stdout",
     "output_type": "stream",
     "text": [
      "12\n"
     ]
    }
   ],
   "source": [
    "product = lambda x, y : x*y\n",
    "print(product(3,4))"
   ]
  },
  {
   "cell_type": "code",
   "execution_count": 255,
   "id": "17cdccfc",
   "metadata": {},
   "outputs": [
    {
     "name": "stdout",
     "output_type": "stream",
     "text": [
      "3\n"
     ]
    }
   ],
   "source": [
    "  \n",
    "\n",
    "greater = lambda x,y :  x if (x>y) else y\n",
    "print (greater(2,3))"
   ]
  },
  {
   "cell_type": "code",
   "execution_count": 256,
   "id": "da6aa0bb",
   "metadata": {},
   "outputs": [
    {
     "name": "stdout",
     "output_type": "stream",
     "text": [
      "Hello\n",
      "WorldWorldWorldWorldWorld\n"
     ]
    }
   ],
   "source": [
    "def say(message, times = 1):\n",
    "    print(message * times)\n",
    "\n",
    "say('Hello')\n",
    "say('World', 5)"
   ]
  },
  {
   "cell_type": "code",
   "execution_count": 257,
   "id": "166a34ef",
   "metadata": {},
   "outputs": [
    {
     "data": {
      "text/plain": [
       "9996"
      ]
     },
     "execution_count": 257,
     "metadata": {},
     "output_type": "execute_result"
    }
   ],
   "source": [
    "min = (lambda x, y: x if x < y else y)\n",
    "min(101*99, 102*98)"
   ]
  },
  {
   "cell_type": "code",
   "execution_count": 258,
   "id": "8907c900",
   "metadata": {},
   "outputs": [
    {
     "data": {
      "text/plain": [
       "9999"
      ]
     },
     "execution_count": 258,
     "metadata": {},
     "output_type": "execute_result"
    }
   ],
   "source": [
    "101*99"
   ]
  },
  {
   "cell_type": "code",
   "execution_count": 259,
   "id": "206fcab3",
   "metadata": {},
   "outputs": [
    {
     "data": {
      "text/plain": [
       "9996"
      ]
     },
     "execution_count": 259,
     "metadata": {},
     "output_type": "execute_result"
    }
   ],
   "source": [
    "102*98"
   ]
  },
  {
   "cell_type": "code",
   "execution_count": 6,
   "id": "7b17b6e0",
   "metadata": {},
   "outputs": [
    {
     "name": "stdout",
     "output_type": "stream",
     "text": [
      "2.915451895043744\n"
     ]
    }
   ],
   "source": [
    " x= ((500//7) % 5) ** 3\n",
    "print (x)\n",
    "    "
   ]
  },
  {
   "cell_type": "code",
   "execution_count": 12,
   "id": "1e581781",
   "metadata": {},
   "outputs": [
    {
     "name": "stdout",
     "output_type": "stream",
     "text": [
      "1\n"
     ]
    }
   ],
   "source": [
    "print( (500//7)%5)"
   ]
  },
  {
   "cell_type": "code",
   "execution_count": 15,
   "id": "41f280d1",
   "metadata": {},
   "outputs": [
    {
     "name": "stdout",
     "output_type": "stream",
     "text": [
      "1\n"
     ]
    }
   ],
   "source": [
    "print (1**3)"
   ]
  },
  {
   "cell_type": "code",
   "execution_count": 18,
   "id": "59b3a596",
   "metadata": {},
   "outputs": [
    {
     "name": "stdout",
     "output_type": "stream",
     "text": [
      "love\n"
     ]
    }
   ],
   "source": [
    "S = 'I love Python'\n",
    "print(S[2:6])"
   ]
  },
  {
   "cell_type": "code",
   "execution_count": 19,
   "id": "7cb73550",
   "metadata": {},
   "outputs": [
    {
     "name": "stdout",
     "output_type": "stream",
     "text": [
      "love\n"
     ]
    }
   ],
   "source": [
    "print(S[-11:-7])"
   ]
  },
  {
   "cell_type": "code",
   "execution_count": 20,
   "id": "b9632b2f",
   "metadata": {},
   "outputs": [
    {
     "name": "stdout",
     "output_type": "stream",
     "text": [
      "[1, 2, 3, 1, 2, 3]\n"
     ]
    }
   ],
   "source": [
    "L = [1, 2, 3]\n",
    "print(L*2)"
   ]
  },
  {
   "cell_type": "code",
   "execution_count": 21,
   "id": "fa1cb6a1",
   "metadata": {},
   "outputs": [
    {
     "name": "stdout",
     "output_type": "stream",
     "text": [
      "1\n",
      "2\n",
      "3\n"
     ]
    }
   ],
   "source": [
    "D = {1:['Raj', 22], 2:['Simran', 21], 3:['Rahul', 40]}\n",
    "for val in D:\n",
    "     print(val)"
   ]
  },
  {
   "cell_type": "code",
   "execution_count": 24,
   "id": "6ad0810a",
   "metadata": {},
   "outputs": [
    {
     "name": "stdout",
     "output_type": "stream",
     "text": [
      "15\n",
      "21\n"
     ]
    }
   ],
   "source": [
    "def my_func(*args):\n",
    "    return(sum(args))\n",
    "\n",
    "print(my_func(1,2,3,4,5))\n",
    "print(my_func(6,7,8))"
   ]
  },
  {
   "cell_type": "code",
   "execution_count": 28,
   "id": "a54f5e70",
   "metadata": {},
   "outputs": [],
   "source": [
    " L = [1, 2, 3, 4]\n",
    "  "
   ]
  },
  {
   "cell_type": "code",
   "execution_count": 31,
   "id": "91014d1f",
   "metadata": {},
   "outputs": [
    {
     "data": {
      "text/plain": [
       "[1, 4, 9, 16]"
      ]
     },
     "execution_count": 31,
     "metadata": {},
     "output_type": "execute_result"
    }
   ],
   "source": [
    "list(map(lambda x : x ** 2, L))"
   ]
  },
  {
   "cell_type": "code",
   "execution_count": 33,
   "id": "0bcc13d0",
   "metadata": {},
   "outputs": [
    {
     "name": "stdout",
     "output_type": "stream",
     "text": [
      "[4, 16, 25]\n"
     ]
    }
   ],
   "source": [
    "first_list = [2, 4, 5]\n",
    "def squareit(n):\n",
    "    return n**2\n",
    "print(list(map(squareit, first_list)))"
   ]
  },
  {
   "cell_type": "code",
   "execution_count": 34,
   "id": "3d6cf3e3",
   "metadata": {},
   "outputs": [
    {
     "name": "stdout",
     "output_type": "stream",
     "text": [
      "[7, 10, 15, 14]\n"
     ]
    }
   ],
   "source": [
    "sums_list = [3,5,9,7]\n",
    "sums_list2 = (4,5,6,7)\n",
    "print(list(map(lambda x,y : x+y, sums_list,sums_list2)))"
   ]
  },
  {
   "cell_type": "code",
   "execution_count": 35,
   "id": "0d3bc6cb",
   "metadata": {},
   "outputs": [
    {
     "name": "stdout",
     "output_type": "stream",
     "text": [
      "['Nikola Tesla', 'James Watt', 'Albert Einstein']\n"
     ]
    }
   ],
   "source": [
    "list_of_names = ['nikola', 'james', 'albert']\n",
    "list_of_names2 = ['tesla','watt','einstein']\n",
    "proper = lambda x, y: x[0].upper()+x[1:] +' '+ y[0].upper()+y[1:]\n",
    "print(list(map(proper, list_of_names,list_of_names2))) "
   ]
  },
  {
   "cell_type": "code",
   "execution_count": 3,
   "id": "9afcd436",
   "metadata": {},
   "outputs": [
    {
     "name": "stdout",
     "output_type": "stream",
     "text": [
      "[3, 6, 9]\n"
     ]
    }
   ],
   "source": [
    "#Filter\n",
    "divby3 = lambda x:  x % 3 == 0\n",
    "my_list = [3,4,5,6,7,8,9]\n",
    "div = filter(divby3, my_list)\n",
    "print(list(div))"
   ]
  },
  {
   "cell_type": "code",
   "execution_count": 4,
   "id": "a7d113ba",
   "metadata": {},
   "outputs": [
    {
     "name": "stdout",
     "output_type": "stream",
     "text": [
      "[True, False, False, True, False, False, True]\n"
     ]
    }
   ],
   "source": [
    "#Filter\n",
    "divby3 = lambda x:  x % 3 == 0\n",
    "my_list = [3,4,5,6,7,8,9]\n",
    "div = map(divby3, my_list)\n",
    "print(list(div))"
   ]
  },
  {
   "cell_type": "code",
   "execution_count": null,
   "id": "43369257",
   "metadata": {},
   "outputs": [],
   "source": []
  },
  {
   "cell_type": "code",
   "execution_count": 38,
   "id": "e833cdb9",
   "metadata": {},
   "outputs": [
    {
     "name": "stdout",
     "output_type": "stream",
     "text": [
      "6\n"
     ]
    }
   ],
   "source": [
    "#Reduce\n",
    "from functools import reduce\n",
    "q  = reduce(lambda x, y: x+y, range(1,4))\n",
    "#0,1,2,3  (((0+1)+2)+3)\n",
    "print(q)"
   ]
  },
  {
   "cell_type": "code",
   "execution_count": 39,
   "id": "a2656b51",
   "metadata": {},
   "outputs": [
    {
     "name": "stdout",
     "output_type": "stream",
     "text": [
      "94\n"
     ]
    }
   ],
   "source": [
    "list_of_nums = [22,45,32,20,87,94,30]\n",
    "print(reduce(lambda x,y: x if x>y else y,list_of_nums))"
   ]
  },
  {
   "cell_type": "code",
   "execution_count": 47,
   "id": "cf79c1af",
   "metadata": {},
   "outputs": [
    {
     "name": "stdout",
     "output_type": "stream",
     "text": [
      "120\n"
     ]
    }
   ],
   "source": [
    "#factorial using reduce\n",
    "from functools import reduce\n",
    "\n",
    "list_of_nums = [1,2,3,4,5]\n",
    "fact = reduce( lambda n, m : 1 if n==0 else n*m , list_of_nums)\n",
    "print (fact)"
   ]
  },
  {
   "cell_type": "code",
   "execution_count": 50,
   "id": "24dc7713",
   "metadata": {},
   "outputs": [
    {
     "name": "stdout",
     "output_type": "stream",
     "text": [
      "120\n"
     ]
    }
   ],
   "source": [
    "#factorial using reduce\n",
    "from functools import reduce\n",
    "\n",
    "input=5\n",
    "fact = reduce( lambda n, m : 1 if n==0 else n*m , range(1,input+1))\n",
    "print (fact)"
   ]
  },
  {
   "cell_type": "code",
   "execution_count": 69,
   "id": "f0ac7bf5",
   "metadata": {},
   "outputs": [
    {
     "name": "stdout",
     "output_type": "stream",
     "text": [
      "6\n"
     ]
    }
   ],
   "source": [
    "n=3;\n",
    "if(n==0):\n",
    "    print(1);\n",
    "else:\n",
    "    fact = reduce( lambda a, b : 1 if n==0 else a*b , range(1,n+1))\n",
    "    print (fact)\n"
   ]
  },
  {
   "cell_type": "code",
   "execution_count": 72,
   "id": "8c5291dc",
   "metadata": {},
   "outputs": [],
   "source": [
    "C=[2, 5, 9, 12, 13, 15, 16, 17, 18, 19]\n",
    "F=[2, 4, 5, 6, 7, 9, 13, 16]\n",
    "H=[1, 2, 5, 9, 10, 11, 12, 13, 15]\n",
    "\n",
    "C_set=set(C)\n",
    "F_set=set(F)\n",
    "H_set=set(H)"
   ]
  },
  {
   "cell_type": "code",
   "execution_count": 98,
   "id": "9cf9dac6",
   "metadata": {},
   "outputs": [
    {
     "name": "stdout",
     "output_type": "stream",
     "text": [
      "[2, 5, 9, 13]\n",
      "[16]\n",
      "[12, 15, 16]\n",
      "[3, 8, 14, 20]\n"
     ]
    }
   ],
   "source": [
    "#Students who play all the three sports\n",
    "print(sorted(C_set& F_set & H_set))\n",
    "#Students who play both cricket and football but don’t play hockey\n",
    "print(sorted(C_set& F_set - H_set))\n",
    "#Students who play exactly two of the sports\n",
    "print(sorted((C_set & F_set -H_set)  | (F_set & H_set - C_set )   | (H_set & C_set - F_set )  ))\n",
    "#Students who don’t play any of the three sports\n",
    "listOfStudents=[]\n",
    "for i in range(1,21):\n",
    "    listOfStudents.append(i)\n",
    "    \n",
    "#print(listOfStudents)\n",
    "listOfStudents_set = set(listOfStudents)\n",
    "\n",
    "print(sorted(listOfStudents_set-(C_set | F_set | H_set)))"
   ]
  },
  {
   "cell_type": "code",
   "execution_count": 91,
   "id": "1b2ce127",
   "metadata": {},
   "outputs": [
    {
     "name": "stdout",
     "output_type": "stream",
     "text": [
      "1\n",
      "2\n",
      "3\n",
      "4\n",
      "5\n",
      "6\n",
      "7\n",
      "8\n",
      "9\n",
      "10\n",
      "11\n",
      "12\n",
      "13\n",
      "14\n",
      "15\n",
      "16\n",
      "17\n",
      "18\n",
      "19\n",
      "20\n"
     ]
    }
   ],
   "source": [
    "#Students who don’t play any of the three sports\n",
    "for i in range(1,21):\n",
    "    print(i)"
   ]
  },
  {
   "cell_type": "code",
   "execution_count": 102,
   "id": "4715c8a9",
   "metadata": {},
   "outputs": [
    {
     "name": "stdout",
     "output_type": "stream",
     "text": [
      "This is my first code\n"
     ]
    }
   ],
   "source": [
    "  input_str = '         This is my first code'\n",
    "print(input_str.lstrip())"
   ]
  },
  {
   "cell_type": "code",
   "execution_count": 6,
   "id": "7ffe10ae",
   "metadata": {},
   "outputs": [
    {
     "name": "stdout",
     "output_type": "stream",
     "text": [
      "('Monty Python', 'British', 1969, 'Python')\n"
     ]
    }
   ],
   "source": [
    "input_tuple = ('Monty Python', 'British', 1969)\n",
    "\n",
    "# convert the tuple to a list, add the element, and convert it back to a tuple.\n",
    "\n",
    "inputLi = list(input_tuple)\n",
    "inputLi.append('Python')\n",
    "input_tuple_2 = tuple(inputLi)\n",
    "print(input_tuple_2)\n",
    "\n",
    "\n"
   ]
  },
  {
   "cell_type": "code",
   "execution_count": 114,
   "id": "19f34787",
   "metadata": {},
   "outputs": [
    {
     "name": "stdout",
     "output_type": "stream",
     "text": [
      "[1, 4, 5]\n"
     ]
    }
   ],
   "source": [
    "#difference = A-B , everything in A that's not in B.\n",
    "# symmetric difference :  (A-B) & (B-A) , ie, ele belong to only one set, the overlap is removed\n",
    "list_1 = [1,2,3]\n",
    "list_2 = [2,3,4,5]\n",
    "\n",
    "set_1 = set(list_1)\n",
    "set_2 = set(list_2)\n",
    "\n",
    "answer_1 = sorted(list(set_1-set_2))\n",
    "aa=sorted(list(set_2-set_1))\n",
    "\n",
    "answer_2 =answer_1 + aa\n",
    "print(sorted(list(answer_2)))"
   ]
  },
  {
   "cell_type": "code",
   "execution_count": 116,
   "id": "23da82d6",
   "metadata": {},
   "outputs": [
    {
     "name": "stdout",
     "output_type": "stream",
     "text": [
      "[125, 216, 64, 512, 729]\n"
     ]
    }
   ],
   "source": [
    "input_list=[5,6,4,8,9]\n",
    "cube =list( map( lambda x : x**3, input_list))\n",
    "\n",
    "print(cube)"
   ]
  },
  {
   "cell_type": "code",
   "execution_count": 123,
   "id": "6dc7f235",
   "metadata": {},
   "outputs": [
    {
     "name": "stdout",
     "output_type": "stream",
     "text": [
      "2\n",
      "[1, 0, 1]\n"
     ]
    }
   ],
   "source": [
    "#Using the function Map, count the number of words that start with ‘S’ in input_list.\n",
    "input_list=['Start' , 'End' , 'Start2']\n",
    "n=0;\n",
    "countS =list( map( lambda x  : 1 if x[0]=='S' else 0, input_list ))\n",
    "from functools import reduce\n",
    "q  = reduce(lambda x, y: x+y, countS)\n",
    "print(q)\n",
    "print(countS)\n"
   ]
  },
  {
   "cell_type": "code",
   "execution_count": 127,
   "id": "8c1e4f49",
   "metadata": {},
   "outputs": [
    {
     "name": "stdout",
     "output_type": "stream",
     "text": [
      "['Ankur Narang', 'Avik Sarkar', 'Kiran R', 'Nitin Sareen']\n"
     ]
    }
   ],
   "source": [
    "input_list = [ ['Ankur', 'Avik', 'Kiran', 'Nitin'], ['Narang', 'Sarkar', 'R', 'Sareen']]\n",
    "\n",
    "func= list(map(lambda x,y :  x+' ' + y , input_list[0],input_list[1] ))\n",
    "print(func)"
   ]
  },
  {
   "cell_type": "code",
   "execution_count": 130,
   "id": "21dbbdf3",
   "metadata": {},
   "outputs": [
    {
     "name": "stdout",
     "output_type": "stream",
     "text": [
      "[5, 10, 15, 20]\n"
     ]
    }
   ],
   "source": [
    "#Extract a list of numbers that are multiples of 5 from a list of integers named input_list.\n",
    "input_list=[1,2,3,4,5,6,7,8,9,10,11,12,13,14,15,20]\n",
    "\n",
    "func = list(filter( lambda x : x if(x%5==0) else 0,  input_list))\n",
    "print(func)"
   ]
  },
  {
   "cell_type": "code",
   "execution_count": 131,
   "id": "6530c9fb",
   "metadata": {},
   "outputs": [
    {
     "name": "stdout",
     "output_type": "stream",
     "text": [
      "['salsap']\n"
     ]
    }
   ],
   "source": [
    "input_list =  ['hdjk', 'salsap', 'sherpa']\n",
    "#Extract a list of names that start with an ‘s’ and end with a ‘p’ (both 's' and 'p' are lowercase) in input_list.\n",
    "countS =list( filter( lambda x  : 1 if x[0]=='s' and x[-1]=='p' else 0, input_list ))\n",
    "print(countS)\n"
   ]
  },
  {
   "cell_type": "code",
   "execution_count": 135,
   "id": "f94acd72",
   "metadata": {},
   "outputs": [
    {
     "name": "stdout",
     "output_type": "stream",
     "text": [
      "I Love Python\n"
     ]
    }
   ],
   "source": [
    "#Using the Reduce function, concatenate a list of words in input_list, and print the output as a string.\n",
    "#If input_list = ['I','Love','Python'], the output should be the string 'I Love Python'.\n",
    "\n",
    "input_list = ['I','Love','Python']\n",
    "\n",
    "funcC = reduce(lambda x,y : x+' '+y , input_list)\n",
    "print(funcC)"
   ]
  },
  {
   "cell_type": "code",
   "execution_count": 136,
   "id": "b2fad5a0",
   "metadata": {},
   "outputs": [
    {
     "name": "stdout",
     "output_type": "stream",
     "text": [
      "89\n"
     ]
    }
   ],
   "source": [
    "# input_list = [31, 63, 76, 89]. Find and print the largest number in input_list using the reduce() function.\n",
    "input_list = [31, 63, 76, 89]\n",
    "funcMax = reduce(lambda x,y : x if x>y else y , input_list)\n",
    "print(funcMax)"
   ]
  },
  {
   "cell_type": "code",
   "execution_count": null,
   "id": "4961a60a",
   "metadata": {},
   "outputs": [],
   "source": []
  },
  {
   "cell_type": "code",
   "execution_count": null,
   "id": "8f30179e",
   "metadata": {},
   "outputs": [],
   "source": []
  },
  {
   "cell_type": "code",
   "execution_count": null,
   "id": "6476c821",
   "metadata": {},
   "outputs": [],
   "source": []
  },
  {
   "cell_type": "code",
   "execution_count": null,
   "id": "e2c377c8",
   "metadata": {},
   "outputs": [],
   "source": []
  },
  {
   "cell_type": "code",
   "execution_count": null,
   "id": "26826b9e",
   "metadata": {},
   "outputs": [],
   "source": []
  },
  {
   "cell_type": "code",
   "execution_count": null,
   "id": "475b8a7c",
   "metadata": {},
   "outputs": [],
   "source": []
  },
  {
   "cell_type": "code",
   "execution_count": null,
   "id": "52cdab49",
   "metadata": {},
   "outputs": [],
   "source": []
  },
  {
   "cell_type": "code",
   "execution_count": null,
   "id": "f57b474c",
   "metadata": {},
   "outputs": [],
   "source": []
  },
  {
   "cell_type": "code",
   "execution_count": null,
   "id": "6aa7639a",
   "metadata": {},
   "outputs": [],
   "source": []
  },
  {
   "cell_type": "code",
   "execution_count": null,
   "id": "24017fb9",
   "metadata": {},
   "outputs": [],
   "source": []
  },
  {
   "cell_type": "code",
   "execution_count": null,
   "id": "8a966b7f",
   "metadata": {},
   "outputs": [],
   "source": []
  },
  {
   "cell_type": "code",
   "execution_count": null,
   "id": "425c5310",
   "metadata": {},
   "outputs": [],
   "source": []
  },
  {
   "cell_type": "code",
   "execution_count": null,
   "id": "a5c77536",
   "metadata": {},
   "outputs": [],
   "source": []
  },
  {
   "cell_type": "code",
   "execution_count": null,
   "id": "4164e265",
   "metadata": {},
   "outputs": [],
   "source": []
  },
  {
   "cell_type": "code",
   "execution_count": null,
   "id": "7b243358",
   "metadata": {},
   "outputs": [],
   "source": []
  },
  {
   "cell_type": "code",
   "execution_count": null,
   "id": "b74cf72b",
   "metadata": {},
   "outputs": [],
   "source": []
  },
  {
   "cell_type": "code",
   "execution_count": null,
   "id": "fecf5632",
   "metadata": {},
   "outputs": [],
   "source": []
  },
  {
   "cell_type": "code",
   "execution_count": null,
   "id": "8f9fbaf5",
   "metadata": {},
   "outputs": [],
   "source": []
  },
  {
   "cell_type": "code",
   "execution_count": null,
   "id": "9f58156f",
   "metadata": {},
   "outputs": [],
   "source": []
  },
  {
   "cell_type": "code",
   "execution_count": null,
   "id": "61cb090a",
   "metadata": {},
   "outputs": [],
   "source": []
  },
  {
   "cell_type": "code",
   "execution_count": null,
   "id": "e70b598e",
   "metadata": {},
   "outputs": [],
   "source": []
  },
  {
   "cell_type": "code",
   "execution_count": null,
   "id": "fd64beda",
   "metadata": {},
   "outputs": [],
   "source": []
  },
  {
   "cell_type": "code",
   "execution_count": null,
   "id": "9046418c",
   "metadata": {},
   "outputs": [],
   "source": []
  },
  {
   "cell_type": "code",
   "execution_count": null,
   "id": "54a11106",
   "metadata": {},
   "outputs": [],
   "source": []
  },
  {
   "cell_type": "code",
   "execution_count": null,
   "id": "4ff9ab8c",
   "metadata": {},
   "outputs": [],
   "source": []
  },
  {
   "cell_type": "code",
   "execution_count": null,
   "id": "0b024afd",
   "metadata": {},
   "outputs": [],
   "source": []
  },
  {
   "cell_type": "code",
   "execution_count": null,
   "id": "2ebd121b",
   "metadata": {},
   "outputs": [],
   "source": []
  },
  {
   "cell_type": "code",
   "execution_count": null,
   "id": "c5eaf233",
   "metadata": {},
   "outputs": [],
   "source": []
  },
  {
   "cell_type": "code",
   "execution_count": null,
   "id": "d2fa1529",
   "metadata": {},
   "outputs": [],
   "source": []
  },
  {
   "cell_type": "code",
   "execution_count": null,
   "id": "ff64d9e0",
   "metadata": {},
   "outputs": [],
   "source": []
  },
  {
   "cell_type": "code",
   "execution_count": null,
   "id": "6a978a32",
   "metadata": {},
   "outputs": [],
   "source": []
  },
  {
   "cell_type": "code",
   "execution_count": null,
   "id": "41f896dd",
   "metadata": {},
   "outputs": [],
   "source": []
  },
  {
   "cell_type": "code",
   "execution_count": null,
   "id": "4d340d98",
   "metadata": {},
   "outputs": [],
   "source": []
  },
  {
   "cell_type": "code",
   "execution_count": null,
   "id": "8bf88a50",
   "metadata": {},
   "outputs": [],
   "source": []
  },
  {
   "cell_type": "code",
   "execution_count": null,
   "id": "3aa6c02a",
   "metadata": {},
   "outputs": [],
   "source": []
  }
 ],
 "metadata": {
  "kernelspec": {
   "display_name": "Python 3 (ipykernel)",
   "language": "python",
   "name": "python3"
  },
  "language_info": {
   "codemirror_mode": {
    "name": "ipython",
    "version": 3
   },
   "file_extension": ".py",
   "mimetype": "text/x-python",
   "name": "python",
   "nbconvert_exporter": "python",
   "pygments_lexer": "ipython3",
   "version": "3.9.7"
  }
 },
 "nbformat": 4,
 "nbformat_minor": 5
}
